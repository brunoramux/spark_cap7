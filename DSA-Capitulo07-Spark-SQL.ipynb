{
 "cells": [
  {
   "cell_type": "markdown",
   "metadata": {},
   "source": [
    "# <font color='blue'>Data Science Academy Big Data Real-Time Analytics com Python e Spark</font>\n",
    "\n",
    "# <font color='blue'>Capítulo 7</font>"
   ]
  },
  {
   "cell_type": "markdown",
   "metadata": {},
   "source": [
    "****** Este Jupyter Notebook foi atualizado para a versão 3.6.1. da Linguagem Python em 13/06/2017 ******"
   ]
  },
  {
   "cell_type": "markdown",
   "metadata": {},
   "source": [
    "# Spark SQL"
   ]
  },
  {
   "cell_type": "markdown",
   "metadata": {},
   "source": [
    "O Spark SQL é usado para acessar dados estruturados com Spark."
   ]
  },
  {
   "cell_type": "markdown",
   "metadata": {},
   "source": [
    "#### Acesse http://localhost:4040 sempre que quiser acompanhar a execução dos jobs. \n",
    "#### Pacotes adicionais podem ser encontrados aqui: https://spark-packages.org/ (usaremos um destes pacotes para conexão com o MongoDB)."
   ]
  },
  {
   "cell_type": "markdown",
   "metadata": {},
   "source": [
    "## Spark SQL e RDD's"
   ]
  },
  {
   "cell_type": "code",
   "execution_count": 1,
   "metadata": {},
   "outputs": [],
   "source": [
    "from pyspark.sql import SparkSession\n",
    "from pyspark.sql import SQLContext\n",
    "from pyspark.sql import Row"
   ]
  },
  {
   "cell_type": "code",
   "execution_count": 2,
   "metadata": {},
   "outputs": [
    {
     "name": "stdout",
     "output_type": "stream",
     "text": [
      "<pyspark.context.SparkContext object at 0x101cfa2e8>\n"
     ]
    }
   ],
   "source": [
    "print(sc)"
   ]
  },
  {
   "cell_type": "code",
   "execution_count": 3,
   "metadata": {
    "collapsed": true
   },
   "outputs": [],
   "source": [
    "# Spark Session - usada quando se trabalha com Dataframes no Spark\n",
    "spSession = SparkSession.builder.master(\"local\").appName(\"DSA-SparkSQL\").config(\"spark.some.config.option\", \"some-value\").getOrCreate()"
   ]
  },
  {
   "cell_type": "code",
   "execution_count": 4,
   "metadata": {
    "collapsed": true
   },
   "outputs": [],
   "source": [
    "# Criando o SQL Context para trabalhar com Spark SQL\n",
    "sqlContext = SQLContext(sc)"
   ]
  },
  {
   "cell_type": "code",
   "execution_count": 5,
   "metadata": {},
   "outputs": [],
   "source": [
    "# Importando o arquivo e criando um RDD\n",
    "linhasRDD1 = sc.textFile(\"carros.csv\")"
   ]
  },
  {
   "cell_type": "code",
   "execution_count": 6,
   "metadata": {},
   "outputs": [
    {
     "data": {
      "text/plain": [
       "198"
      ]
     },
     "execution_count": 6,
     "metadata": {},
     "output_type": "execute_result"
    }
   ],
   "source": [
    "linhasRDD1.count()"
   ]
  },
  {
   "cell_type": "code",
   "execution_count": 7,
   "metadata": {},
   "outputs": [],
   "source": [
    "# Removendo a primeira linha - Transformação 1\n",
    "linhasRDD2 = linhasRDD1.filter(lambda x: \"FUELTYPE\" not in x)"
   ]
  },
  {
   "cell_type": "code",
   "execution_count": 8,
   "metadata": {},
   "outputs": [
    {
     "data": {
      "text/plain": [
       "197"
      ]
     },
     "execution_count": 8,
     "metadata": {},
     "output_type": "execute_result"
    }
   ],
   "source": [
    "linhasRDD2.count()"
   ]
  },
  {
   "cell_type": "code",
   "execution_count": 9,
   "metadata": {
    "collapsed": true
   },
   "outputs": [],
   "source": [
    "# Dividindo o conjunto de dados em colunas - Transformação 2\n",
    "linhasRDD3 = linhasRDD2.map(lambda line: line.split(\",\"))"
   ]
  },
  {
   "cell_type": "code",
   "execution_count": 10,
   "metadata": {
    "collapsed": true
   },
   "outputs": [],
   "source": [
    "# Dividindo o conjunto de dados em colunas - Transformação 3\n",
    "linhasRDD4 = linhasRDD3.map(lambda p: Row(make = p[0], body = p[4], hp = int(p[7])))"
   ]
  },
  {
   "cell_type": "code",
   "execution_count": 11,
   "metadata": {
    "collapsed": true
   },
   "outputs": [],
   "source": [
    "?Row"
   ]
  },
  {
   "cell_type": "code",
   "execution_count": 12,
   "metadata": {},
   "outputs": [
    {
     "data": {
      "text/plain": [
       "[Row(body='hatchback', hp=69, make='subaru'),\n",
       " Row(body='hatchback', hp=48, make='chevrolet'),\n",
       " Row(body='hatchback', hp=68, make='mazda'),\n",
       " Row(body='hatchback', hp=62, make='toyota'),\n",
       " Row(body='hatchback', hp=68, make='mitsubishi'),\n",
       " Row(body='hatchback', hp=60, make='honda'),\n",
       " Row(body='sedan', hp=69, make='nissan'),\n",
       " Row(body='hatchback', hp=68, make='dodge'),\n",
       " Row(body='hatchback', hp=68, make='plymouth'),\n",
       " Row(body='hatchback', hp=68, make='mazda'),\n",
       " Row(body='hatchback', hp=68, make='mitsubishi'),\n",
       " Row(body='hatchback', hp=68, make='dodge'),\n",
       " Row(body='hatchback', hp=68, make='plymouth'),\n",
       " Row(body='hatchback', hp=70, make='chevrolet'),\n",
       " Row(body='hatchback', hp=62, make='toyota'),\n",
       " Row(body='hatchback', hp=68, make='dodge'),\n",
       " Row(body='hatchback', hp=58, make='honda'),\n",
       " Row(body='hatchback', hp=62, make='toyota'),\n",
       " Row(body='hatchback', hp=76, make='honda'),\n",
       " Row(body='sedan', hp=70, make='chevrolet'),\n",
       " Row(body='sedan', hp=69, make='nissan'),\n",
       " Row(body='hatchback', hp=68, make='mitsubishi'),\n",
       " Row(body='sedan', hp=68, make='dodge'),\n",
       " Row(body='sedan', hp=68, make='plymouth'),\n",
       " Row(body='sedan', hp=68, make='mazda'),\n",
       " Row(body='sedan', hp=78, make='isuzu'),\n",
       " Row(body='hatchback', hp=68, make='mazda'),\n",
       " Row(body='sedan', hp=69, make='nissan'),\n",
       " Row(body='hatchback', hp=76, make='honda'),\n",
       " Row(body='wagon', hp=62, make='toyota'),\n",
       " Row(body='sedan', hp=70, make='toyota'),\n",
       " Row(body='sedan', hp=88, make='mitsubishi'),\n",
       " Row(body='hatchback', hp=73, make='subaru'),\n",
       " Row(body='sedan', hp=55, make='nissan'),\n",
       " Row(body='sedan', hp=82, make='subaru'),\n",
       " Row(body='hatchback', hp=76, make='honda'),\n",
       " Row(body='hatchback', hp=70, make='toyota'),\n",
       " Row(body='sedan', hp=76, make='honda'),\n",
       " Row(body='wagon', hp=76, make='honda'),\n",
       " Row(body='sedan', hp=69, make='nissan'),\n",
       " Row(body='wagon', hp=69, make='nissan'),\n",
       " Row(body='sedan', hp=68, make='mazda'),\n",
       " Row(body='wagon', hp=82, make='subaru'),\n",
       " Row(body='sedan', hp=69, make='nissan'),\n",
       " Row(body='hatchback', hp=73, make='subaru'),\n",
       " Row(body='sedan', hp=68, make='dodge'),\n",
       " Row(body='sedan', hp=68, make='plymouth'),\n",
       " Row(body='hatchback', hp=102, make='mitsubishi'),\n",
       " Row(body='sedan', hp=70, make='toyota'),\n",
       " Row(body='sedan', hp=82, make='subaru'),\n",
       " Row(body='sedan', hp=52, make='volkswagen'),\n",
       " Row(body='hatchback', hp=56, make='toyota'),\n",
       " Row(body='hatchback', hp=69, make='nissan'),\n",
       " Row(body='hatchback', hp=86, make='honda'),\n",
       " Row(body='wagon', hp=62, make='toyota'),\n",
       " Row(body='sedan', hp=56, make='toyota'),\n",
       " Row(body='hatchback', hp=102, make='dodge'),\n",
       " Row(body='hatchback', hp=102, make='plymouth'),\n",
       " Row(body='sedan', hp=85, make='volkswagen'),\n",
       " Row(body='sedan', hp=52, make='volkswagen'),\n",
       " Row(body='wagon', hp=69, make='nissan'),\n",
       " Row(body='wagon', hp=82, make='subaru'),\n",
       " Row(body='sedan', hp=70, make='toyota'),\n",
       " Row(body='sedan', hp=88, make='mitsubishi'),\n",
       " Row(body='sedan', hp=85, make='volkswagen'),\n",
       " Row(body='hatchback', hp=70, make='toyota'),\n",
       " Row(body='hardtop', hp=69, make='nissan'),\n",
       " Row(body='hatchback', hp=70, make='toyota'),\n",
       " Row(body='hardtop', hp=116, make='toyota'),\n",
       " Row(body='sedan', hp=84, make='mazda'),\n",
       " Row(body='sedan', hp=85, make='volkswagen'),\n",
       " Row(body='hatchback', hp=88, make='mitsubishi'),\n",
       " Row(body='wagon', hp=62, make='toyota'),\n",
       " Row(body='sedan', hp=86, make='honda'),\n",
       " Row(body='hatchback', hp=84, make='mazda'),\n",
       " Row(body='wagon', hp=88, make='dodge'),\n",
       " Row(body='wagon', hp=88, make='plymouth'),\n",
       " Row(body='sedan', hp=92, make='toyota'),\n",
       " Row(body='hatchback', hp=97, make='nissan'),\n",
       " Row(body='hatchback', hp=86, make='honda'),\n",
       " Row(body='sedan', hp=82, make='subaru'),\n",
       " Row(body='sedan', hp=70, make='toyota'),\n",
       " Row(body='sedan', hp=116, make='mitsubishi'),\n",
       " Row(body='sedan', hp=116, make='mitsubishi'),\n",
       " Row(body='sedan', hp=112, make='toyota'),\n",
       " Row(body='sedan', hp=68, make='volkswagen'),\n",
       " Row(body='hatchback', hp=112, make='toyota'),\n",
       " Row(body='sedan', hp=97, make='nissan'),\n",
       " Row(body='hardtop', hp=116, make='toyota'),\n",
       " Row(body='hatchback', hp=116, make='mitsubishi'),\n",
       " Row(body='sedan', hp=94, make='subaru'),\n",
       " Row(body='hatchback', hp=90, make='volkswagen'),\n",
       " Row(body='hatchback', hp=92, make='toyota'),\n",
       " Row(body='hatchback', hp=116, make='toyota'),\n",
       " Row(body='sedan', hp=100, make='volkswagen'),\n",
       " Row(body='wagon', hp=94, make='subaru'),\n",
       " Row(body='sedan', hp=84, make='mazda'),\n",
       " Row(body='sedan', hp=86, make='honda'),\n",
       " Row(body='sedan', hp=100, make='honda'),\n",
       " Row(body='hatchback', hp=84, make='mazda'),\n",
       " Row(body='sedan', hp=73, make='toyota'),\n",
       " Row(body='sedan', hp=92, make='toyota'),\n",
       " Row(body='hatchback', hp=101, make='mazda'),\n",
       " Row(body='hatchback', hp=90, make='isuzu'),\n",
       " Row(body='hardtop', hp=116, make='toyota'),\n",
       " Row(body='hatchback', hp=84, make='mazda'),\n",
       " Row(body='hatchback', hp=92, make='toyota'),\n",
       " Row(body='sedan', hp=111, make='subaru'),\n",
       " Row(body='hatchback', hp=116, make='toyota'),\n",
       " Row(body='convertible', hp=90, make='volkswagen'),\n",
       " Row(body='wagon', hp=111, make='subaru'),\n",
       " Row(body='hatchback', hp=101, make='mazda'),\n",
       " Row(body='hatchback', hp=110, make='saab'),\n",
       " Row(body='sedan', hp=97, make='peugot'),\n",
       " Row(body='sedan', hp=110, make='saab'),\n",
       " Row(body='wagon', hp=88, make='volkswagen'),\n",
       " Row(body='wagon', hp=97, make='peugot'),\n",
       " Row(body='hatchback', hp=145, make='mitsubishi'),\n",
       " Row(body='hatchback', hp=145, make='plymouth'),\n",
       " Row(body='sedan', hp=114, make='volvo'),\n",
       " Row(body='sedan', hp=101, make='honda'),\n",
       " Row(body='hatchback', hp=145, make='dodge'),\n",
       " Row(body='sedan', hp=95, make='peugot'),\n",
       " Row(body='sedan', hp=110, make='volkswagen'),\n",
       " Row(body='wagon', hp=114, make='volvo'),\n",
       " Row(body='convertible', hp=111, make='alfa-romero'),\n",
       " Row(body='sedan', hp=152, make='nissan'),\n",
       " Row(body='sedan', hp=152, make='nissan'),\n",
       " Row(body='hatchback', hp=101, make='mazda'),\n",
       " Row(body='sedan', hp=68, make='volkswagen'),\n",
       " Row(body='wagon', hp=95, make='peugot'),\n",
       " Row(body='sedan', hp=102, make='audi'),\n",
       " Row(body='wagon', hp=152, make='nissan'),\n",
       " Row(body='hatchback', hp=145, make='mitsubishi'),\n",
       " Row(body='hatchback', hp=145, make='mitsubishi'),\n",
       " Row(body='hatchback', hp=110, make='saab'),\n",
       " Row(body='sedan', hp=110, make='audi'),\n",
       " Row(body='sedan', hp=110, make='saab'),\n",
       " Row(body='sedan', hp=95, make='peugot'),\n",
       " Row(body='hatchback', hp=135, make='mazda'),\n",
       " Row(body='sedan', hp=156, make='toyota'),\n",
       " Row(body='wagon', hp=156, make='toyota'),\n",
       " Row(body='sedan', hp=114, make='volvo'),\n",
       " Row(body='hatchback', hp=161, make='toyota'),\n",
       " Row(body='sedan', hp=101, make='bmw'),\n",
       " Row(body='convertible', hp=111, make='alfa-romero'),\n",
       " Row(body='hatchback', hp=154, make='alfa-romero'),\n",
       " Row(body='hatchback', hp=175, make='mercury'),\n",
       " Row(body='wagon', hp=114, make='volvo'),\n",
       " Row(body='hatchback', hp=161, make='toyota'),\n",
       " Row(body='sedan', hp=97, make='peugot'),\n",
       " Row(body='wagon', hp=95, make='peugot'),\n",
       " Row(body='sedan', hp=114, make='volvo'),\n",
       " Row(body='sedan', hp=95, make='peugot'),\n",
       " Row(body='sedan', hp=101, make='bmw'),\n",
       " Row(body='wagon', hp=95, make='peugot'),\n",
       " Row(body='hatchback', hp=160, make='nissan'),\n",
       " Row(body='sedan', hp=115, make='audi'),\n",
       " Row(body='convertible', hp=116, make='toyota'),\n",
       " Row(body='sedan', hp=110, make='audi'),\n",
       " Row(body='sedan', hp=95, make='peugot'),\n",
       " Row(body='sedan', hp=142, make='peugot'),\n",
       " Row(body='hatchback', hp=160, make='saab'),\n",
       " Row(body='sedan', hp=120, make='mazda'),\n",
       " Row(body='sedan', hp=72, make='mazda'),\n",
       " Row(body='hatchback', hp=160, make='nissan'),\n",
       " Row(body='sedan', hp=162, make='volvo'),\n",
       " Row(body='sedan', hp=160, make='saab'),\n",
       " Row(body='wagon', hp=110, make='audi'),\n",
       " Row(body='wagon', hp=162, make='volvo'),\n",
       " Row(body='sedan', hp=160, make='volvo'),\n",
       " Row(body='hatchback', hp=200, make='nissan'),\n",
       " Row(body='sedan', hp=121, make='bmw'),\n",
       " Row(body='sedan', hp=121, make='bmw'),\n",
       " Row(body='sedan', hp=134, make='volvo'),\n",
       " Row(body='hatchback', hp=143, make='porsche'),\n",
       " Row(body='sedan', hp=106, make='volvo'),\n",
       " Row(body='sedan', hp=114, make='volvo'),\n",
       " Row(body='sedan', hp=140, make='audi'),\n",
       " Row(body='sedan', hp=121, make='bmw'),\n",
       " Row(body='sedan', hp=123, make='mercedes-benz'),\n",
       " Row(body='hardtop', hp=123, make='mercedes-benz'),\n",
       " Row(body='wagon', hp=123, make='mercedes-benz'),\n",
       " Row(body='sedan', hp=182, make='bmw'),\n",
       " Row(body='sedan', hp=123, make='mercedes-benz'),\n",
       " Row(body='sedan', hp=176, make='jaguar'),\n",
       " Row(body='hardtop', hp=207, make='porsche'),\n",
       " Row(body='hardtop', hp=207, make='porsche'),\n",
       " Row(body='sedan', hp=155, make='mercedes-benz'),\n",
       " Row(body='convertible', hp=155, make='mercedes-benz'),\n",
       " Row(body='sedan', hp=176, make='jaguar'),\n",
       " Row(body='sedan', hp=262, make='jaguar'),\n",
       " Row(body='sedan', hp=182, make='bmw'),\n",
       " Row(body='convertible', hp=207, make='porsche'),\n",
       " Row(body='sedan', hp=184, make='mercedes-benz'),\n",
       " Row(body='sedan', hp=182, make='bmw'),\n",
       " Row(body='hardtop', hp=184, make='mercedes-benz')]"
      ]
     },
     "execution_count": 12,
     "metadata": {},
     "output_type": "execute_result"
    }
   ],
   "source": [
    "linhasRDD4.collect()"
   ]
  },
  {
   "cell_type": "code",
   "execution_count": 13,
   "metadata": {},
   "outputs": [],
   "source": [
    "# Criando um dataframe a partir do RDD\n",
    "linhasDF = spSession.createDataFrame(linhasRDD4)"
   ]
  },
  {
   "cell_type": "code",
   "execution_count": 14,
   "metadata": {},
   "outputs": [
    {
     "name": "stdout",
     "output_type": "stream",
     "text": [
      "+---------+---+----------+\n",
      "|     body| hp|      make|\n",
      "+---------+---+----------+\n",
      "|hatchback| 69|    subaru|\n",
      "|hatchback| 48| chevrolet|\n",
      "|hatchback| 68|     mazda|\n",
      "|hatchback| 62|    toyota|\n",
      "|hatchback| 68|mitsubishi|\n",
      "|hatchback| 60|     honda|\n",
      "|    sedan| 69|    nissan|\n",
      "|hatchback| 68|     dodge|\n",
      "|hatchback| 68|  plymouth|\n",
      "|hatchback| 68|     mazda|\n",
      "|hatchback| 68|mitsubishi|\n",
      "|hatchback| 68|     dodge|\n",
      "|hatchback| 68|  plymouth|\n",
      "|hatchback| 70| chevrolet|\n",
      "|hatchback| 62|    toyota|\n",
      "|hatchback| 68|     dodge|\n",
      "|hatchback| 58|     honda|\n",
      "|hatchback| 62|    toyota|\n",
      "|hatchback| 76|     honda|\n",
      "|    sedan| 70| chevrolet|\n",
      "+---------+---+----------+\n",
      "only showing top 20 rows\n",
      "\n"
     ]
    }
   ],
   "source": [
    "linhasDF.show()"
   ]
  },
  {
   "cell_type": "code",
   "execution_count": 15,
   "metadata": {},
   "outputs": [
    {
     "data": {
      "text/plain": [
       "pyspark.sql.dataframe.DataFrame"
      ]
     },
     "execution_count": 15,
     "metadata": {},
     "output_type": "execute_result"
    }
   ],
   "source": [
    "type(linhasDF)"
   ]
  },
  {
   "cell_type": "code",
   "execution_count": 16,
   "metadata": {},
   "outputs": [
    {
     "name": "stdout",
     "output_type": "stream",
     "text": [
      "+---------+---+----------+\n",
      "|     body| hp|      make|\n",
      "+---------+---+----------+\n",
      "|hatchback| 69|    subaru|\n",
      "|hatchback| 48| chevrolet|\n",
      "|hatchback| 68|     mazda|\n",
      "|hatchback| 62|    toyota|\n",
      "|hatchback| 68|mitsubishi|\n",
      "|hatchback| 60|     honda|\n",
      "|    sedan| 69|    nissan|\n",
      "|hatchback| 68|     dodge|\n",
      "|hatchback| 68|  plymouth|\n",
      "|hatchback| 68|     mazda|\n",
      "|hatchback| 68|mitsubishi|\n",
      "|hatchback| 68|     dodge|\n",
      "|hatchback| 68|  plymouth|\n",
      "|hatchback| 70| chevrolet|\n",
      "|hatchback| 62|    toyota|\n",
      "|hatchback| 68|     dodge|\n",
      "|hatchback| 58|     honda|\n",
      "|hatchback| 62|    toyota|\n",
      "|hatchback| 76|     honda|\n",
      "|    sedan| 70| chevrolet|\n",
      "+---------+---+----------+\n",
      "only showing top 20 rows\n",
      "\n"
     ]
    }
   ],
   "source": [
    "linhasDF.select(\"*\").show()"
   ]
  },
  {
   "cell_type": "code",
   "execution_count": 17,
   "metadata": {},
   "outputs": [
    {
     "name": "stdout",
     "output_type": "stream",
     "text": [
      "+-----------+---+-----------+\n",
      "|       body| hp|       make|\n",
      "+-----------+---+-----------+\n",
      "|  hatchback|154|alfa-romero|\n",
      "|convertible|111|alfa-romero|\n",
      "|convertible|111|alfa-romero|\n",
      "|      sedan|110|       audi|\n",
      "|      sedan|115|       audi|\n",
      "|      sedan|110|       audi|\n",
      "|      wagon|110|       audi|\n",
      "|      sedan|140|       audi|\n",
      "|      sedan|102|       audi|\n",
      "|      sedan|101|        bmw|\n",
      "|      sedan|101|        bmw|\n",
      "|      sedan|121|        bmw|\n",
      "|      sedan|121|        bmw|\n",
      "|      sedan|182|        bmw|\n",
      "|      sedan|182|        bmw|\n",
      "|      sedan|121|        bmw|\n",
      "|      sedan|182|        bmw|\n",
      "|      sedan| 70|  chevrolet|\n",
      "|  hatchback| 70|  chevrolet|\n",
      "|  hatchback| 48|  chevrolet|\n",
      "+-----------+---+-----------+\n",
      "only showing top 20 rows\n",
      "\n"
     ]
    }
   ],
   "source": [
    "linhasDF.orderBy(\"make\").show()"
   ]
  },
  {
   "cell_type": "code",
   "execution_count": 18,
   "metadata": {},
   "outputs": [],
   "source": [
    "# Registrando o dataframe como uma Temp Table\n",
    "linhasDF.createOrReplaceTempView(\"linhasTB\")"
   ]
  },
  {
   "cell_type": "code",
   "execution_count": 19,
   "metadata": {},
   "outputs": [
    {
     "name": "stdout",
     "output_type": "stream",
     "text": [
      "+---------+---+------+\n",
      "|     body| hp|  make|\n",
      "+---------+---+------+\n",
      "|    sedan| 69|nissan|\n",
      "|    sedan| 69|nissan|\n",
      "|    sedan| 69|nissan|\n",
      "|    sedan| 55|nissan|\n",
      "|    sedan| 69|nissan|\n",
      "|    wagon| 69|nissan|\n",
      "|    sedan| 69|nissan|\n",
      "|hatchback| 69|nissan|\n",
      "|    wagon| 69|nissan|\n",
      "|  hardtop| 69|nissan|\n",
      "|hatchback| 97|nissan|\n",
      "|    sedan| 97|nissan|\n",
      "|    sedan|152|nissan|\n",
      "|    sedan|152|nissan|\n",
      "|    wagon|152|nissan|\n",
      "|hatchback|160|nissan|\n",
      "|hatchback|160|nissan|\n",
      "|hatchback|200|nissan|\n",
      "+---------+---+------+\n",
      "\n"
     ]
    }
   ],
   "source": [
    "# Executando queries SQL ANSI\n",
    "spSession.sql(\"select * from linhasTB where make = 'nissan'\").show()"
   ]
  },
  {
   "cell_type": "code",
   "execution_count": 20,
   "metadata": {},
   "outputs": [
    {
     "name": "stdout",
     "output_type": "stream",
     "text": [
      "+-------------+-----------+-----------------+\n",
      "|         make|       body|          avg(hp)|\n",
      "+-------------+-----------+-----------------+\n",
      "|       nissan|      wagon|96.66666666666667|\n",
      "|       subaru|      sedan|             90.2|\n",
      "|     plymouth|      sedan|             68.0|\n",
      "|        dodge|  hatchback|             90.2|\n",
      "|       nissan|      sedan|             89.0|\n",
      "|        honda|      sedan|             89.8|\n",
      "|   mitsubishi|  hatchback|            105.0|\n",
      "|        mazda|      sedan|82.66666666666667|\n",
      "|  alfa-romero|convertible|            111.0|\n",
      "|mercedes-benz|convertible|            155.0|\n",
      "|     plymouth|      wagon|             88.0|\n",
      "|mercedes-benz|      wagon|            123.0|\n",
      "|        isuzu|  hatchback|             90.0|\n",
      "|       toyota|convertible|            116.0|\n",
      "|        mazda|  hatchback|             89.4|\n",
      "|    chevrolet|      sedan|             70.0|\n",
      "|      mercury|  hatchback|            175.0|\n",
      "|      porsche|  hatchback|            143.0|\n",
      "|        honda|      wagon|             76.0|\n",
      "|      porsche|convertible|            207.0|\n",
      "+-------------+-----------+-----------------+\n",
      "only showing top 20 rows\n",
      "\n"
     ]
    }
   ],
   "source": [
    "# Executando queries SQL ANSI\n",
    "spSession.sql(\"select make, body, avg(hp) from linhasTB group by make, body\").show()"
   ]
  },
  {
   "cell_type": "markdown",
   "metadata": {},
   "source": [
    "## Spark SQL e Arquivos CSV"
   ]
  },
  {
   "cell_type": "code",
   "execution_count": 21,
   "metadata": {},
   "outputs": [],
   "source": [
    "carrosDF = spSession.read.csv(\"carros.csv\", header = True)"
   ]
  },
  {
   "cell_type": "code",
   "execution_count": 22,
   "metadata": {},
   "outputs": [
    {
     "data": {
      "text/plain": [
       "pyspark.sql.dataframe.DataFrame"
      ]
     },
     "execution_count": 22,
     "metadata": {},
     "output_type": "execute_result"
    }
   ],
   "source": [
    "type(carrosDF)"
   ]
  },
  {
   "cell_type": "code",
   "execution_count": 23,
   "metadata": {},
   "outputs": [
    {
     "name": "stdout",
     "output_type": "stream",
     "text": [
      "+----------+--------+------+-----+---------+-----+---------+---+----+--------+-------+-----+\n",
      "|      MAKE|FUELTYPE|ASPIRE|DOORS|     BODY|DRIVE|CYLINDERS| HP| RPM|MPG-CITY|MPG-HWY|PRICE|\n",
      "+----------+--------+------+-----+---------+-----+---------+---+----+--------+-------+-----+\n",
      "|    subaru|     gas|   std|  two|hatchback|  fwd|     four| 69|4900|      31|     36| 5118|\n",
      "| chevrolet|     gas|   std|  two|hatchback|  fwd|    three| 48|5100|      47|     53| 5151|\n",
      "|     mazda|     gas|   std|  two|hatchback|  fwd|     four| 68|5000|      30|     31| 5195|\n",
      "|    toyota|     gas|   std|  two|hatchback|  fwd|     four| 62|4800|      35|     39| 5348|\n",
      "|mitsubishi|     gas|   std|  two|hatchback|  fwd|     four| 68|5500|      37|     41| 5389|\n",
      "|     honda|     gas|   std|  two|hatchback|  fwd|     four| 60|5500|      38|     42| 5399|\n",
      "|    nissan|     gas|   std|  two|    sedan|  fwd|     four| 69|5200|      31|     37| 5499|\n",
      "|     dodge|     gas|   std|  two|hatchback|  fwd|     four| 68|5500|      37|     41| 5572|\n",
      "|  plymouth|     gas|   std|  two|hatchback|  fwd|     four| 68|5500|      37|     41| 5572|\n",
      "|     mazda|     gas|   std|  two|hatchback|  fwd|     four| 68|5000|      31|     38| 6095|\n",
      "|mitsubishi|     gas|   std|  two|hatchback|  fwd|     four| 68|5500|      31|     38| 6189|\n",
      "|     dodge|     gas|   std| four|hatchback|  fwd|     four| 68|5500|      31|     38| 6229|\n",
      "|  plymouth|     gas|   std| four|hatchback|  fwd|     four| 68|5500|      31|     38| 6229|\n",
      "| chevrolet|     gas|   std|  two|hatchback|  fwd|     four| 70|5400|      38|     43| 6295|\n",
      "|    toyota|     gas|   std|  two|hatchback|  fwd|     four| 62|4800|      31|     38| 6338|\n",
      "|     dodge|     gas|   std|  two|hatchback|  fwd|     four| 68|5500|      31|     38| 6377|\n",
      "|     honda|     gas|   std|  two|hatchback|  fwd|     four| 58|4800|      49|     54| 6479|\n",
      "|    toyota|     gas|   std| four|hatchback|  fwd|     four| 62|4800|      31|     38| 6488|\n",
      "|     honda|     gas|   std|  two|hatchback|  fwd|     four| 76|6000|      30|     34| 6529|\n",
      "| chevrolet|     gas|   std| four|    sedan|  fwd|     four| 70|5400|      38|     43| 6575|\n",
      "+----------+--------+------+-----+---------+-----+---------+---+----+--------+-------+-----+\n",
      "only showing top 20 rows\n",
      "\n"
     ]
    }
   ],
   "source": [
    "carrosDF.show()"
   ]
  },
  {
   "cell_type": "code",
   "execution_count": 24,
   "metadata": {
    "collapsed": true
   },
   "outputs": [],
   "source": [
    "# Registrando o dataframe como uma Temp Table\n",
    "carrosDF.createOrReplaceTempView(\"carrosTB\")"
   ]
  },
  {
   "cell_type": "code",
   "execution_count": 25,
   "metadata": {},
   "outputs": [
    {
     "name": "stdout",
     "output_type": "stream",
     "text": [
      "+---------+---+-----+\n",
      "|     make| hp|price|\n",
      "+---------+---+-----+\n",
      "|chevrolet| 48| 5151|\n",
      "+---------+---+-----+\n",
      "\n"
     ]
    }
   ],
   "source": [
    "# Executando queries SQL ANSI\n",
    "spSession.sql(\"select make, hp, price from carrosTB where CYLINDERS = 'three'\").show()"
   ]
  },
  {
   "cell_type": "code",
   "execution_count": 26,
   "metadata": {
    "collapsed": true
   },
   "outputs": [],
   "source": [
    "carrosTT = spSession.sql(\"select make, hp, price from carrosTB where CYLINDERS = 'three'\")"
   ]
  },
  {
   "cell_type": "code",
   "execution_count": 27,
   "metadata": {},
   "outputs": [
    {
     "name": "stdout",
     "output_type": "stream",
     "text": [
      "+---------+---+-----+\n",
      "|     make| hp|price|\n",
      "+---------+---+-----+\n",
      "|chevrolet| 48| 5151|\n",
      "+---------+---+-----+\n",
      "\n"
     ]
    }
   ],
   "source": [
    "carrosTT.show()"
   ]
  },
  {
   "cell_type": "markdown",
   "metadata": {},
   "source": [
    "## Aplicando Machine Learning"
   ]
  },
  {
   "cell_type": "code",
   "execution_count": 28,
   "metadata": {},
   "outputs": [
    {
     "data": {
      "text/plain": [
       "carros.csv MapPartitionsRDD[45] at textFile at NativeMethodAccessorImpl.java:-2"
      ]
     },
     "execution_count": 28,
     "metadata": {},
     "output_type": "execute_result"
    }
   ],
   "source": [
    "# Carregando o arquivo CSV e mantendo o objeto em cache\n",
    "carros = sc.textFile(\"carros.csv\")\n",
    "carros.cache()"
   ]
  },
  {
   "cell_type": "code",
   "execution_count": 29,
   "metadata": {},
   "outputs": [
    {
     "data": {
      "text/plain": [
       "197"
      ]
     },
     "execution_count": 29,
     "metadata": {},
     "output_type": "execute_result"
    }
   ],
   "source": [
    "# Remove a primeira linha (header)\n",
    "primeiraLinha = carros.first()\n",
    "linhas = carros.filter(lambda x: x != primeiraLinha)\n",
    "linhas.count()"
   ]
  },
  {
   "cell_type": "code",
   "execution_count": 30,
   "metadata": {
    "collapsed": true
   },
   "outputs": [],
   "source": [
    "# Importando função row e função vectors\n",
    "from pyspark.sql import Row\n",
    "from pyspark.ml.linalg import Vectors\n",
    "import math"
   ]
  },
  {
   "cell_type": "code",
   "execution_count": 31,
   "metadata": {
    "collapsed": true
   },
   "outputs": [],
   "source": [
    "# Convertendo para um vetor de linhas\n",
    "def transformToNumeric( inputStr) :\n",
    "    attList = inputStr.split(\",\")\n",
    "    doors = 1.0 if attList[3] == \"two\" else 2.0\n",
    "    body = 1.0 if attList[4] == \"sedan\" else 2.0 \n",
    "       \n",
    "    # Filtrando colunas não necessárias nesta etapa\n",
    "    valores = Row(DOORS = doors, BODY = float(body), HP = float(attList[7]), RPM = float(attList[8]), MPG = float(attList[9]))\n",
    "    return valores"
   ]
  },
  {
   "cell_type": "code",
   "execution_count": 32,
   "metadata": {},
   "outputs": [
    {
     "data": {
      "text/plain": [
       "[Row(BODY=2.0, DOORS=1.0, HP=69.0, MPG=31.0, RPM=4900.0),\n",
       " Row(BODY=2.0, DOORS=1.0, HP=48.0, MPG=47.0, RPM=5100.0),\n",
       " Row(BODY=2.0, DOORS=1.0, HP=68.0, MPG=30.0, RPM=5000.0),\n",
       " Row(BODY=2.0, DOORS=1.0, HP=62.0, MPG=35.0, RPM=4800.0),\n",
       " Row(BODY=2.0, DOORS=1.0, HP=68.0, MPG=37.0, RPM=5500.0),\n",
       " Row(BODY=2.0, DOORS=1.0, HP=60.0, MPG=38.0, RPM=5500.0),\n",
       " Row(BODY=1.0, DOORS=1.0, HP=69.0, MPG=31.0, RPM=5200.0),\n",
       " Row(BODY=2.0, DOORS=1.0, HP=68.0, MPG=37.0, RPM=5500.0),\n",
       " Row(BODY=2.0, DOORS=1.0, HP=68.0, MPG=37.0, RPM=5500.0),\n",
       " Row(BODY=2.0, DOORS=1.0, HP=68.0, MPG=31.0, RPM=5000.0),\n",
       " Row(BODY=2.0, DOORS=1.0, HP=68.0, MPG=31.0, RPM=5500.0),\n",
       " Row(BODY=2.0, DOORS=2.0, HP=68.0, MPG=31.0, RPM=5500.0),\n",
       " Row(BODY=2.0, DOORS=2.0, HP=68.0, MPG=31.0, RPM=5500.0),\n",
       " Row(BODY=2.0, DOORS=1.0, HP=70.0, MPG=38.0, RPM=5400.0),\n",
       " Row(BODY=2.0, DOORS=1.0, HP=62.0, MPG=31.0, RPM=4800.0),\n",
       " Row(BODY=2.0, DOORS=1.0, HP=68.0, MPG=31.0, RPM=5500.0),\n",
       " Row(BODY=2.0, DOORS=1.0, HP=58.0, MPG=49.0, RPM=4800.0),\n",
       " Row(BODY=2.0, DOORS=2.0, HP=62.0, MPG=31.0, RPM=4800.0),\n",
       " Row(BODY=2.0, DOORS=1.0, HP=76.0, MPG=30.0, RPM=6000.0),\n",
       " Row(BODY=1.0, DOORS=2.0, HP=70.0, MPG=38.0, RPM=5400.0),\n",
       " Row(BODY=1.0, DOORS=1.0, HP=69.0, MPG=31.0, RPM=5200.0),\n",
       " Row(BODY=2.0, DOORS=1.0, HP=68.0, MPG=31.0, RPM=5500.0),\n",
       " Row(BODY=1.0, DOORS=2.0, HP=68.0, MPG=31.0, RPM=5500.0),\n",
       " Row(BODY=1.0, DOORS=2.0, HP=68.0, MPG=31.0, RPM=5500.0),\n",
       " Row(BODY=1.0, DOORS=2.0, HP=68.0, MPG=31.0, RPM=5000.0),\n",
       " Row(BODY=1.0, DOORS=2.0, HP=78.0, MPG=24.0, RPM=4800.0),\n",
       " Row(BODY=2.0, DOORS=1.0, HP=68.0, MPG=31.0, RPM=5000.0),\n",
       " Row(BODY=1.0, DOORS=2.0, HP=69.0, MPG=31.0, RPM=5200.0),\n",
       " Row(BODY=2.0, DOORS=1.0, HP=76.0, MPG=31.0, RPM=6000.0),\n",
       " Row(BODY=2.0, DOORS=2.0, HP=62.0, MPG=31.0, RPM=4800.0),\n",
       " Row(BODY=1.0, DOORS=2.0, HP=70.0, MPG=30.0, RPM=4800.0),\n",
       " Row(BODY=1.0, DOORS=2.0, HP=88.0, MPG=25.0, RPM=5000.0),\n",
       " Row(BODY=2.0, DOORS=1.0, HP=73.0, MPG=26.0, RPM=4400.0),\n",
       " Row(BODY=1.0, DOORS=1.0, HP=55.0, MPG=45.0, RPM=4800.0),\n",
       " Row(BODY=1.0, DOORS=2.0, HP=82.0, MPG=32.0, RPM=4800.0),\n",
       " Row(BODY=2.0, DOORS=1.0, HP=76.0, MPG=30.0, RPM=6000.0),\n",
       " Row(BODY=2.0, DOORS=2.0, HP=70.0, MPG=30.0, RPM=4800.0),\n",
       " Row(BODY=1.0, DOORS=2.0, HP=76.0, MPG=30.0, RPM=6000.0),\n",
       " Row(BODY=2.0, DOORS=2.0, HP=76.0, MPG=30.0, RPM=6000.0),\n",
       " Row(BODY=1.0, DOORS=1.0, HP=69.0, MPG=31.0, RPM=5200.0),\n",
       " Row(BODY=2.0, DOORS=2.0, HP=69.0, MPG=31.0, RPM=5200.0),\n",
       " Row(BODY=1.0, DOORS=2.0, HP=68.0, MPG=31.0, RPM=5000.0),\n",
       " Row(BODY=2.0, DOORS=2.0, HP=82.0, MPG=28.0, RPM=4800.0),\n",
       " Row(BODY=1.0, DOORS=2.0, HP=69.0, MPG=31.0, RPM=5200.0),\n",
       " Row(BODY=2.0, DOORS=1.0, HP=73.0, MPG=26.0, RPM=4400.0),\n",
       " Row(BODY=1.0, DOORS=2.0, HP=68.0, MPG=31.0, RPM=5500.0),\n",
       " Row(BODY=1.0, DOORS=2.0, HP=68.0, MPG=31.0, RPM=5500.0),\n",
       " Row(BODY=2.0, DOORS=1.0, HP=102.0, MPG=24.0, RPM=5500.0),\n",
       " Row(BODY=1.0, DOORS=2.0, HP=70.0, MPG=38.0, RPM=4800.0),\n",
       " Row(BODY=1.0, DOORS=2.0, HP=82.0, MPG=28.0, RPM=4400.0),\n",
       " Row(BODY=1.0, DOORS=1.0, HP=52.0, MPG=37.0, RPM=4800.0),\n",
       " Row(BODY=2.0, DOORS=2.0, HP=56.0, MPG=38.0, RPM=4500.0),\n",
       " Row(BODY=2.0, DOORS=1.0, HP=69.0, MPG=31.0, RPM=5200.0),\n",
       " Row(BODY=2.0, DOORS=1.0, HP=86.0, MPG=27.0, RPM=5800.0),\n",
       " Row(BODY=2.0, DOORS=2.0, HP=62.0, MPG=27.0, RPM=4800.0),\n",
       " Row(BODY=1.0, DOORS=2.0, HP=56.0, MPG=34.0, RPM=4500.0),\n",
       " Row(BODY=2.0, DOORS=1.0, HP=102.0, MPG=24.0, RPM=5500.0),\n",
       " Row(BODY=2.0, DOORS=1.0, HP=102.0, MPG=24.0, RPM=5500.0),\n",
       " Row(BODY=1.0, DOORS=1.0, HP=85.0, MPG=27.0, RPM=5250.0),\n",
       " Row(BODY=1.0, DOORS=2.0, HP=52.0, MPG=37.0, RPM=4800.0),\n",
       " Row(BODY=2.0, DOORS=2.0, HP=69.0, MPG=31.0, RPM=5200.0),\n",
       " Row(BODY=2.0, DOORS=2.0, HP=82.0, MPG=23.0, RPM=4800.0),\n",
       " Row(BODY=1.0, DOORS=1.0, HP=70.0, MPG=29.0, RPM=4800.0),\n",
       " Row(BODY=1.0, DOORS=2.0, HP=88.0, MPG=25.0, RPM=5000.0),\n",
       " Row(BODY=1.0, DOORS=2.0, HP=85.0, MPG=27.0, RPM=5250.0),\n",
       " Row(BODY=2.0, DOORS=1.0, HP=70.0, MPG=29.0, RPM=4800.0),\n",
       " Row(BODY=2.0, DOORS=1.0, HP=69.0, MPG=31.0, RPM=5200.0),\n",
       " Row(BODY=2.0, DOORS=2.0, HP=70.0, MPG=28.0, RPM=4800.0),\n",
       " Row(BODY=2.0, DOORS=1.0, HP=116.0, MPG=24.0, RPM=4800.0),\n",
       " Row(BODY=1.0, DOORS=2.0, HP=84.0, MPG=26.0, RPM=4800.0),\n",
       " Row(BODY=1.0, DOORS=2.0, HP=85.0, MPG=27.0, RPM=5250.0),\n",
       " Row(BODY=2.0, DOORS=1.0, HP=88.0, MPG=25.0, RPM=5000.0),\n",
       " Row(BODY=2.0, DOORS=2.0, HP=62.0, MPG=27.0, RPM=4800.0),\n",
       " Row(BODY=1.0, DOORS=2.0, HP=86.0, MPG=27.0, RPM=5800.0),\n",
       " Row(BODY=2.0, DOORS=1.0, HP=84.0, MPG=26.0, RPM=4800.0),\n",
       " Row(BODY=2.0, DOORS=2.0, HP=88.0, MPG=24.0, RPM=5000.0),\n",
       " Row(BODY=2.0, DOORS=2.0, HP=88.0, MPG=24.0, RPM=5000.0),\n",
       " Row(BODY=1.0, DOORS=2.0, HP=92.0, MPG=29.0, RPM=4200.0),\n",
       " Row(BODY=2.0, DOORS=2.0, HP=97.0, MPG=27.0, RPM=5200.0),\n",
       " Row(BODY=2.0, DOORS=1.0, HP=86.0, MPG=27.0, RPM=5800.0),\n",
       " Row(BODY=1.0, DOORS=2.0, HP=82.0, MPG=24.0, RPM=4800.0),\n",
       " Row(BODY=1.0, DOORS=2.0, HP=70.0, MPG=28.0, RPM=4800.0),\n",
       " Row(BODY=1.0, DOORS=2.0, HP=116.0, MPG=23.0, RPM=5500.0),\n",
       " Row(BODY=1.0, DOORS=2.0, HP=116.0, MPG=23.0, RPM=5500.0),\n",
       " Row(BODY=1.0, DOORS=1.0, HP=112.0, MPG=26.0, RPM=6600.0),\n",
       " Row(BODY=1.0, DOORS=2.0, HP=68.0, MPG=37.0, RPM=4500.0),\n",
       " Row(BODY=2.0, DOORS=1.0, HP=112.0, MPG=26.0, RPM=6600.0),\n",
       " Row(BODY=1.0, DOORS=2.0, HP=97.0, MPG=27.0, RPM=5200.0),\n",
       " Row(BODY=2.0, DOORS=1.0, HP=116.0, MPG=24.0, RPM=4800.0),\n",
       " Row(BODY=2.0, DOORS=1.0, HP=116.0, MPG=23.0, RPM=5500.0),\n",
       " Row(BODY=1.0, DOORS=2.0, HP=94.0, MPG=26.0, RPM=5200.0),\n",
       " Row(BODY=2.0, DOORS=1.0, HP=90.0, MPG=24.0, RPM=5500.0),\n",
       " Row(BODY=2.0, DOORS=2.0, HP=92.0, MPG=27.0, RPM=4200.0),\n",
       " Row(BODY=2.0, DOORS=1.0, HP=116.0, MPG=24.0, RPM=4800.0),\n",
       " Row(BODY=1.0, DOORS=2.0, HP=100.0, MPG=26.0, RPM=5500.0),\n",
       " Row(BODY=2.0, DOORS=2.0, HP=94.0, MPG=25.0, RPM=5200.0),\n",
       " Row(BODY=1.0, DOORS=2.0, HP=84.0, MPG=26.0, RPM=4800.0),\n",
       " Row(BODY=1.0, DOORS=2.0, HP=86.0, MPG=27.0, RPM=5800.0),\n",
       " Row(BODY=1.0, DOORS=1.0, HP=100.0, MPG=25.0, RPM=5500.0),\n",
       " Row(BODY=2.0, DOORS=1.0, HP=84.0, MPG=26.0, RPM=4800.0),\n",
       " Row(BODY=1.0, DOORS=2.0, HP=73.0, MPG=30.0, RPM=4500.0),\n",
       " Row(BODY=1.0, DOORS=2.0, HP=92.0, MPG=27.0, RPM=4200.0),\n",
       " Row(BODY=2.0, DOORS=1.0, HP=101.0, MPG=17.0, RPM=6000.0),\n",
       " Row(BODY=2.0, DOORS=1.0, HP=90.0, MPG=24.0, RPM=5000.0),\n",
       " Row(BODY=2.0, DOORS=1.0, HP=116.0, MPG=24.0, RPM=4800.0),\n",
       " Row(BODY=2.0, DOORS=2.0, HP=84.0, MPG=26.0, RPM=4800.0),\n",
       " Row(BODY=2.0, DOORS=2.0, HP=92.0, MPG=27.0, RPM=4200.0),\n",
       " Row(BODY=1.0, DOORS=2.0, HP=111.0, MPG=24.0, RPM=4800.0),\n",
       " Row(BODY=2.0, DOORS=1.0, HP=116.0, MPG=24.0, RPM=4800.0),\n",
       " Row(BODY=2.0, DOORS=1.0, HP=90.0, MPG=24.0, RPM=5500.0),\n",
       " Row(BODY=2.0, DOORS=2.0, HP=111.0, MPG=23.0, RPM=4800.0),\n",
       " Row(BODY=2.0, DOORS=1.0, HP=101.0, MPG=17.0, RPM=6000.0),\n",
       " Row(BODY=2.0, DOORS=1.0, HP=110.0, MPG=21.0, RPM=5250.0),\n",
       " Row(BODY=1.0, DOORS=2.0, HP=97.0, MPG=19.0, RPM=5000.0),\n",
       " Row(BODY=1.0, DOORS=2.0, HP=110.0, MPG=21.0, RPM=5250.0),\n",
       " Row(BODY=2.0, DOORS=2.0, HP=88.0, MPG=25.0, RPM=5500.0),\n",
       " Row(BODY=2.0, DOORS=2.0, HP=97.0, MPG=19.0, RPM=5000.0),\n",
       " Row(BODY=2.0, DOORS=1.0, HP=145.0, MPG=19.0, RPM=5000.0),\n",
       " Row(BODY=2.0, DOORS=1.0, HP=145.0, MPG=19.0, RPM=5000.0),\n",
       " Row(BODY=1.0, DOORS=2.0, HP=114.0, MPG=23.0, RPM=5400.0),\n",
       " Row(BODY=1.0, DOORS=2.0, HP=101.0, MPG=24.0, RPM=5800.0),\n",
       " Row(BODY=2.0, DOORS=1.0, HP=145.0, MPG=19.0, RPM=5000.0),\n",
       " Row(BODY=1.0, DOORS=2.0, HP=95.0, MPG=28.0, RPM=4150.0),\n",
       " Row(BODY=1.0, DOORS=2.0, HP=110.0, MPG=19.0, RPM=5500.0),\n",
       " Row(BODY=2.0, DOORS=2.0, HP=114.0, MPG=23.0, RPM=5400.0),\n",
       " Row(BODY=2.0, DOORS=1.0, HP=111.0, MPG=21.0, RPM=5000.0),\n",
       " Row(BODY=1.0, DOORS=2.0, HP=152.0, MPG=17.0, RPM=5200.0),\n",
       " Row(BODY=1.0, DOORS=2.0, HP=152.0, MPG=19.0, RPM=5200.0),\n",
       " Row(BODY=2.0, DOORS=1.0, HP=101.0, MPG=17.0, RPM=6000.0),\n",
       " Row(BODY=1.0, DOORS=2.0, HP=68.0, MPG=33.0, RPM=4500.0),\n",
       " Row(BODY=2.0, DOORS=2.0, HP=95.0, MPG=25.0, RPM=4150.0),\n",
       " Row(BODY=1.0, DOORS=2.0, HP=102.0, MPG=24.0, RPM=5500.0),\n",
       " Row(BODY=2.0, DOORS=2.0, HP=152.0, MPG=17.0, RPM=5200.0),\n",
       " Row(BODY=2.0, DOORS=1.0, HP=145.0, MPG=19.0, RPM=5000.0),\n",
       " Row(BODY=2.0, DOORS=1.0, HP=145.0, MPG=19.0, RPM=5000.0),\n",
       " Row(BODY=2.0, DOORS=1.0, HP=110.0, MPG=21.0, RPM=5250.0),\n",
       " Row(BODY=1.0, DOORS=1.0, HP=110.0, MPG=19.0, RPM=5500.0),\n",
       " Row(BODY=1.0, DOORS=2.0, HP=110.0, MPG=21.0, RPM=5250.0),\n",
       " Row(BODY=1.0, DOORS=2.0, HP=95.0, MPG=19.0, RPM=5000.0),\n",
       " Row(BODY=2.0, DOORS=1.0, HP=135.0, MPG=16.0, RPM=6000.0),\n",
       " Row(BODY=1.0, DOORS=2.0, HP=156.0, MPG=20.0, RPM=5200.0),\n",
       " Row(BODY=2.0, DOORS=2.0, HP=156.0, MPG=19.0, RPM=5200.0),\n",
       " Row(BODY=1.0, DOORS=2.0, HP=114.0, MPG=24.0, RPM=5400.0),\n",
       " Row(BODY=2.0, DOORS=1.0, HP=161.0, MPG=19.0, RPM=5200.0),\n",
       " Row(BODY=1.0, DOORS=1.0, HP=101.0, MPG=23.0, RPM=5800.0),\n",
       " Row(BODY=2.0, DOORS=1.0, HP=111.0, MPG=21.0, RPM=5000.0),\n",
       " Row(BODY=2.0, DOORS=1.0, HP=154.0, MPG=19.0, RPM=5000.0),\n",
       " Row(BODY=2.0, DOORS=1.0, HP=175.0, MPG=19.0, RPM=5000.0),\n",
       " Row(BODY=2.0, DOORS=2.0, HP=114.0, MPG=24.0, RPM=5400.0),\n",
       " Row(BODY=2.0, DOORS=1.0, HP=161.0, MPG=20.0, RPM=5200.0),\n",
       " Row(BODY=1.0, DOORS=2.0, HP=97.0, MPG=19.0, RPM=5000.0),\n",
       " Row(BODY=2.0, DOORS=2.0, HP=95.0, MPG=19.0, RPM=5000.0),\n",
       " Row(BODY=1.0, DOORS=2.0, HP=114.0, MPG=23.0, RPM=5400.0),\n",
       " Row(BODY=1.0, DOORS=2.0, HP=95.0, MPG=28.0, RPM=4150.0),\n",
       " Row(BODY=1.0, DOORS=2.0, HP=101.0, MPG=23.0, RPM=5800.0),\n",
       " Row(BODY=2.0, DOORS=2.0, HP=95.0, MPG=25.0, RPM=4150.0),\n",
       " Row(BODY=2.0, DOORS=1.0, HP=160.0, MPG=19.0, RPM=5200.0),\n",
       " Row(BODY=1.0, DOORS=2.0, HP=115.0, MPG=18.0, RPM=5500.0),\n",
       " Row(BODY=2.0, DOORS=1.0, HP=116.0, MPG=24.0, RPM=4800.0),\n",
       " Row(BODY=1.0, DOORS=2.0, HP=110.0, MPG=19.0, RPM=5500.0),\n",
       " Row(BODY=1.0, DOORS=2.0, HP=95.0, MPG=28.0, RPM=4150.0),\n",
       " Row(BODY=1.0, DOORS=2.0, HP=142.0, MPG=18.0, RPM=5600.0),\n",
       " Row(BODY=2.0, DOORS=1.0, HP=160.0, MPG=19.0, RPM=5500.0),\n",
       " Row(BODY=1.0, DOORS=2.0, HP=120.0, MPG=19.0, RPM=5000.0),\n",
       " Row(BODY=1.0, DOORS=2.0, HP=72.0, MPG=31.0, RPM=4200.0),\n",
       " Row(BODY=2.0, DOORS=1.0, HP=160.0, MPG=19.0, RPM=5200.0),\n",
       " Row(BODY=1.0, DOORS=2.0, HP=162.0, MPG=17.0, RPM=5100.0),\n",
       " Row(BODY=1.0, DOORS=2.0, HP=160.0, MPG=19.0, RPM=5500.0),\n",
       " Row(BODY=2.0, DOORS=2.0, HP=110.0, MPG=19.0, RPM=5500.0),\n",
       " Row(BODY=2.0, DOORS=2.0, HP=162.0, MPG=17.0, RPM=5100.0),\n",
       " Row(BODY=1.0, DOORS=2.0, HP=160.0, MPG=19.0, RPM=5300.0),\n",
       " Row(BODY=2.0, DOORS=1.0, HP=200.0, MPG=17.0, RPM=5200.0),\n",
       " Row(BODY=1.0, DOORS=1.0, HP=121.0, MPG=21.0, RPM=4250.0),\n",
       " Row(BODY=1.0, DOORS=2.0, HP=121.0, MPG=21.0, RPM=4250.0),\n",
       " Row(BODY=1.0, DOORS=2.0, HP=134.0, MPG=18.0, RPM=5500.0),\n",
       " Row(BODY=2.0, DOORS=1.0, HP=143.0, MPG=19.0, RPM=5500.0),\n",
       " Row(BODY=1.0, DOORS=2.0, HP=106.0, MPG=26.0, RPM=4800.0),\n",
       " Row(BODY=1.0, DOORS=2.0, HP=114.0, MPG=19.0, RPM=5400.0),\n",
       " Row(BODY=1.0, DOORS=2.0, HP=140.0, MPG=17.0, RPM=5500.0),\n",
       " Row(BODY=1.0, DOORS=2.0, HP=121.0, MPG=20.0, RPM=4250.0),\n",
       " Row(BODY=1.0, DOORS=2.0, HP=123.0, MPG=22.0, RPM=4350.0),\n",
       " Row(BODY=2.0, DOORS=1.0, HP=123.0, MPG=22.0, RPM=4350.0),\n",
       " Row(BODY=2.0, DOORS=2.0, HP=123.0, MPG=22.0, RPM=4350.0),\n",
       " Row(BODY=1.0, DOORS=2.0, HP=182.0, MPG=16.0, RPM=5400.0),\n",
       " Row(BODY=1.0, DOORS=2.0, HP=123.0, MPG=22.0, RPM=4350.0),\n",
       " Row(BODY=1.0, DOORS=2.0, HP=176.0, MPG=15.0, RPM=4750.0),\n",
       " Row(BODY=2.0, DOORS=1.0, HP=207.0, MPG=17.0, RPM=5900.0),\n",
       " Row(BODY=2.0, DOORS=1.0, HP=207.0, MPG=17.0, RPM=5900.0),\n",
       " Row(BODY=1.0, DOORS=2.0, HP=155.0, MPG=16.0, RPM=4750.0),\n",
       " Row(BODY=2.0, DOORS=1.0, HP=155.0, MPG=16.0, RPM=4750.0),\n",
       " Row(BODY=1.0, DOORS=2.0, HP=176.0, MPG=15.0, RPM=4750.0),\n",
       " Row(BODY=1.0, DOORS=1.0, HP=262.0, MPG=13.0, RPM=5000.0),\n",
       " Row(BODY=1.0, DOORS=2.0, HP=182.0, MPG=15.0, RPM=5400.0),\n",
       " Row(BODY=2.0, DOORS=1.0, HP=207.0, MPG=17.0, RPM=5900.0),\n",
       " Row(BODY=1.0, DOORS=2.0, HP=184.0, MPG=14.0, RPM=4500.0),\n",
       " Row(BODY=1.0, DOORS=1.0, HP=182.0, MPG=16.0, RPM=5400.0),\n",
       " Row(BODY=2.0, DOORS=1.0, HP=184.0, MPG=14.0, RPM=4500.0)]"
      ]
     },
     "execution_count": 32,
     "metadata": {},
     "output_type": "execute_result"
    }
   ],
   "source": [
    "autoMap = linhas.map(transformToNumeric)\n",
    "autoMap.persist()\n",
    "autoMap.collect()"
   ]
  },
  {
   "cell_type": "code",
   "execution_count": 33,
   "metadata": {},
   "outputs": [
    {
     "name": "stdout",
     "output_type": "stream",
     "text": [
      "+----+-----+----+----+------+\n",
      "|BODY|DOORS|  HP| MPG|   RPM|\n",
      "+----+-----+----+----+------+\n",
      "| 2.0|  1.0|69.0|31.0|4900.0|\n",
      "| 2.0|  1.0|48.0|47.0|5100.0|\n",
      "| 2.0|  1.0|68.0|30.0|5000.0|\n",
      "| 2.0|  1.0|62.0|35.0|4800.0|\n",
      "| 2.0|  1.0|68.0|37.0|5500.0|\n",
      "| 2.0|  1.0|60.0|38.0|5500.0|\n",
      "| 1.0|  1.0|69.0|31.0|5200.0|\n",
      "| 2.0|  1.0|68.0|37.0|5500.0|\n",
      "| 2.0|  1.0|68.0|37.0|5500.0|\n",
      "| 2.0|  1.0|68.0|31.0|5000.0|\n",
      "| 2.0|  1.0|68.0|31.0|5500.0|\n",
      "| 2.0|  2.0|68.0|31.0|5500.0|\n",
      "| 2.0|  2.0|68.0|31.0|5500.0|\n",
      "| 2.0|  1.0|70.0|38.0|5400.0|\n",
      "| 2.0|  1.0|62.0|31.0|4800.0|\n",
      "| 2.0|  1.0|68.0|31.0|5500.0|\n",
      "| 2.0|  1.0|58.0|49.0|4800.0|\n",
      "| 2.0|  2.0|62.0|31.0|4800.0|\n",
      "| 2.0|  1.0|76.0|30.0|6000.0|\n",
      "| 1.0|  2.0|70.0|38.0|5400.0|\n",
      "+----+-----+----+----+------+\n",
      "only showing top 20 rows\n",
      "\n"
     ]
    }
   ],
   "source": [
    "# Criando o Dataframe\n",
    "carrosDf = spSession.createDataFrame(autoMap)\n",
    "carrosDf.show()"
   ]
  },
  {
   "cell_type": "code",
   "execution_count": 34,
   "metadata": {
    "collapsed": true
   },
   "outputs": [],
   "source": [
    "# Aplicando técnicas de normalização e escala\n",
    "summStats = carrosDf.describe().toPandas()\n",
    "medias = summStats.iloc[1,1:5].values.tolist()\n",
    "desvios_padroes = summStats.iloc[2,1:5].values.tolist()"
   ]
  },
  {
   "cell_type": "code",
   "execution_count": 35,
   "metadata": {},
   "outputs": [],
   "source": [
    "# Inserindo a média e o desvio padrão em uma variável do tipo broadcast \n",
    "bcMedias = sc.broadcast(medias)\n",
    "bcDesviosP = sc.broadcast(desvios_padroes)"
   ]
  },
  {
   "cell_type": "code",
   "execution_count": 36,
   "metadata": {
    "collapsed": true
   },
   "outputs": [],
   "source": [
    "def centerAndScale(inRow) :\n",
    "    global bcMedias\n",
    "    global bcDesviosP\n",
    "    \n",
    "    meanArray = bcMedias.value\n",
    "    stdArray = bcDesviosP.value\n",
    "\n",
    "    retArray = []\n",
    "    for i in range(len(meanArray)):\n",
    "        retArray.append( (float(inRow[i]) - float(meanArray[i])) / float(stdArray[i]) )\n",
    "    return Vectors.dense(retArray)"
   ]
  },
  {
   "cell_type": "code",
   "execution_count": 37,
   "metadata": {},
   "outputs": [
    {
     "data": {
      "text/plain": [
       "[DenseVector([0.9337, -1.145, -0.9194, 0.9083]),\n",
       " DenseVector([0.9337, -1.145, -1.4773, 3.3936]),\n",
       " DenseVector([0.9337, -1.145, -0.9459, 0.753]),\n",
       " DenseVector([0.9337, -1.145, -1.1053, 1.5297]),\n",
       " DenseVector([0.9337, -1.145, -0.9459, 1.8403]),\n",
       " DenseVector([0.9337, -1.145, -1.1585, 1.9956]),\n",
       " DenseVector([-1.0656, -1.145, -0.9194, 0.9083]),\n",
       " DenseVector([0.9337, -1.145, -0.9459, 1.8403]),\n",
       " DenseVector([0.9337, -1.145, -0.9459, 1.8403]),\n",
       " DenseVector([0.9337, -1.145, -0.9459, 0.9083]),\n",
       " DenseVector([0.9337, -1.145, -0.9459, 0.9083]),\n",
       " DenseVector([0.9337, 0.869, -0.9459, 0.9083]),\n",
       " DenseVector([0.9337, 0.869, -0.9459, 0.9083]),\n",
       " DenseVector([0.9337, -1.145, -0.8928, 1.9956]),\n",
       " DenseVector([0.9337, -1.145, -1.1053, 0.9083]),\n",
       " DenseVector([0.9337, -1.145, -0.9459, 0.9083]),\n",
       " DenseVector([0.9337, -1.145, -1.2116, 3.7043]),\n",
       " DenseVector([0.9337, 0.869, -1.1053, 0.9083]),\n",
       " DenseVector([0.9337, -1.145, -0.7334, 0.753]),\n",
       " DenseVector([-1.0656, 0.869, -0.8928, 1.9956]),\n",
       " DenseVector([-1.0656, -1.145, -0.9194, 0.9083]),\n",
       " DenseVector([0.9337, -1.145, -0.9459, 0.9083]),\n",
       " DenseVector([-1.0656, 0.869, -0.9459, 0.9083]),\n",
       " DenseVector([-1.0656, 0.869, -0.9459, 0.9083]),\n",
       " DenseVector([-1.0656, 0.869, -0.9459, 0.9083]),\n",
       " DenseVector([-1.0656, 0.869, -0.6802, -0.179]),\n",
       " DenseVector([0.9337, -1.145, -0.9459, 0.9083]),\n",
       " DenseVector([-1.0656, 0.869, -0.9194, 0.9083]),\n",
       " DenseVector([0.9337, -1.145, -0.7334, 0.9083]),\n",
       " DenseVector([0.9337, 0.869, -1.1053, 0.9083]),\n",
       " DenseVector([-1.0656, 0.869, -0.8928, 0.753]),\n",
       " DenseVector([-1.0656, 0.869, -0.4146, -0.0237]),\n",
       " DenseVector([0.9337, -1.145, -0.8131, 0.1317]),\n",
       " DenseVector([-1.0656, -1.145, -1.2913, 3.083]),\n",
       " DenseVector([-1.0656, 0.869, -0.574, 1.0637]),\n",
       " DenseVector([0.9337, -1.145, -0.7334, 0.753]),\n",
       " DenseVector([0.9337, 0.869, -0.8928, 0.753]),\n",
       " DenseVector([-1.0656, 0.869, -0.7334, 0.753]),\n",
       " DenseVector([0.9337, 0.869, -0.7334, 0.753]),\n",
       " DenseVector([-1.0656, -1.145, -0.9194, 0.9083]),\n",
       " DenseVector([0.9337, 0.869, -0.9194, 0.9083]),\n",
       " DenseVector([-1.0656, 0.869, -0.9459, 0.9083]),\n",
       " DenseVector([0.9337, 0.869, -0.574, 0.4423]),\n",
       " DenseVector([-1.0656, 0.869, -0.9194, 0.9083]),\n",
       " DenseVector([0.9337, -1.145, -0.8131, 0.1317]),\n",
       " DenseVector([-1.0656, 0.869, -0.9459, 0.9083]),\n",
       " DenseVector([-1.0656, 0.869, -0.9459, 0.9083]),\n",
       " DenseVector([0.9337, -1.145, -0.0426, -0.179]),\n",
       " DenseVector([-1.0656, 0.869, -0.8928, 1.9956]),\n",
       " DenseVector([-1.0656, 0.869, -0.574, 0.4423]),\n",
       " DenseVector([-1.0656, -1.145, -1.371, 1.8403]),\n",
       " DenseVector([0.9337, 0.869, -1.2647, 1.9956]),\n",
       " DenseVector([0.9337, -1.145, -0.9194, 0.9083]),\n",
       " DenseVector([0.9337, -1.145, -0.4677, 0.287]),\n",
       " DenseVector([0.9337, 0.869, -1.1053, 0.287]),\n",
       " DenseVector([-1.0656, 0.869, -1.2647, 1.3743]),\n",
       " DenseVector([0.9337, -1.145, -0.0426, -0.179]),\n",
       " DenseVector([0.9337, -1.145, -0.0426, -0.179]),\n",
       " DenseVector([-1.0656, -1.145, -0.4943, 0.287]),\n",
       " DenseVector([-1.0656, 0.869, -1.371, 1.8403]),\n",
       " DenseVector([0.9337, 0.869, -0.9194, 0.9083]),\n",
       " DenseVector([0.9337, 0.869, -0.574, -0.3343]),\n",
       " DenseVector([-1.0656, -1.145, -0.8928, 0.5977]),\n",
       " DenseVector([-1.0656, 0.869, -0.4146, -0.0237]),\n",
       " DenseVector([-1.0656, 0.869, -0.4943, 0.287]),\n",
       " DenseVector([0.9337, -1.145, -0.8928, 0.5977]),\n",
       " DenseVector([0.9337, -1.145, -0.9194, 0.9083]),\n",
       " DenseVector([0.9337, 0.869, -0.8928, 0.4423]),\n",
       " DenseVector([0.9337, -1.145, 0.3293, -0.179]),\n",
       " DenseVector([-1.0656, 0.869, -0.5208, 0.1317]),\n",
       " DenseVector([-1.0656, 0.869, -0.4943, 0.287]),\n",
       " DenseVector([0.9337, -1.145, -0.4146, -0.0237]),\n",
       " DenseVector([0.9337, 0.869, -1.1053, 0.287]),\n",
       " DenseVector([-1.0656, 0.869, -0.4677, 0.287]),\n",
       " DenseVector([0.9337, -1.145, -0.5208, 0.1317]),\n",
       " DenseVector([0.9337, 0.869, -0.4146, -0.179]),\n",
       " DenseVector([0.9337, 0.869, -0.4146, -0.179]),\n",
       " DenseVector([-1.0656, 0.869, -0.3083, 0.5977]),\n",
       " DenseVector([0.9337, 0.869, -0.1755, 0.287]),\n",
       " DenseVector([0.9337, -1.145, -0.4677, 0.287]),\n",
       " DenseVector([-1.0656, 0.869, -0.574, -0.179]),\n",
       " DenseVector([-1.0656, 0.869, -0.8928, 0.4423]),\n",
       " DenseVector([-1.0656, 0.869, 0.3293, -0.3343]),\n",
       " DenseVector([-1.0656, 0.869, 0.3293, -0.3343]),\n",
       " DenseVector([-1.0656, -1.145, 0.2231, 0.1317]),\n",
       " DenseVector([-1.0656, 0.869, -0.9459, 1.8403]),\n",
       " DenseVector([0.9337, -1.145, 0.2231, 0.1317]),\n",
       " DenseVector([-1.0656, 0.869, -0.1755, 0.287]),\n",
       " DenseVector([0.9337, -1.145, 0.3293, -0.179]),\n",
       " DenseVector([0.9337, -1.145, 0.3293, -0.3343]),\n",
       " DenseVector([-1.0656, 0.869, -0.2552, 0.1317]),\n",
       " DenseVector([0.9337, -1.145, -0.3614, -0.179]),\n",
       " DenseVector([0.9337, 0.869, -0.3083, 0.287]),\n",
       " DenseVector([0.9337, -1.145, 0.3293, -0.179]),\n",
       " DenseVector([-1.0656, 0.869, -0.0958, 0.1317]),\n",
       " DenseVector([0.9337, 0.869, -0.2552, -0.0237]),\n",
       " DenseVector([-1.0656, 0.869, -0.5208, 0.1317]),\n",
       " DenseVector([-1.0656, 0.869, -0.4677, 0.287]),\n",
       " DenseVector([-1.0656, -1.145, -0.0958, -0.0237]),\n",
       " DenseVector([0.9337, -1.145, -0.5208, 0.1317]),\n",
       " DenseVector([-1.0656, 0.869, -0.8131, 0.753]),\n",
       " DenseVector([-1.0656, 0.869, -0.3083, 0.287]),\n",
       " DenseVector([0.9337, -1.145, -0.0692, -1.2663]),\n",
       " DenseVector([0.9337, -1.145, -0.3614, -0.179]),\n",
       " DenseVector([0.9337, -1.145, 0.3293, -0.179]),\n",
       " DenseVector([0.9337, 0.869, -0.5208, 0.1317]),\n",
       " DenseVector([0.9337, 0.869, -0.3083, 0.287]),\n",
       " DenseVector([-1.0656, 0.869, 0.1965, -0.179]),\n",
       " DenseVector([0.9337, -1.145, 0.3293, -0.179]),\n",
       " DenseVector([0.9337, -1.145, -0.3614, -0.179]),\n",
       " DenseVector([0.9337, 0.869, 0.1965, -0.3343]),\n",
       " DenseVector([0.9337, -1.145, -0.0692, -1.2663]),\n",
       " DenseVector([0.9337, -1.145, 0.1699, -0.645]),\n",
       " DenseVector([-1.0656, 0.869, -0.1755, -0.9556]),\n",
       " DenseVector([-1.0656, 0.869, 0.1699, -0.645]),\n",
       " DenseVector([0.9337, 0.869, -0.4146, -0.0237]),\n",
       " DenseVector([0.9337, 0.869, -0.1755, -0.9556]),\n",
       " DenseVector([0.9337, -1.145, 1.0998, -0.9556]),\n",
       " DenseVector([0.9337, -1.145, 1.0998, -0.9556]),\n",
       " DenseVector([-1.0656, 0.869, 0.2762, -0.3343]),\n",
       " DenseVector([-1.0656, 0.869, -0.0692, -0.179]),\n",
       " DenseVector([0.9337, -1.145, 1.0998, -0.9556]),\n",
       " DenseVector([-1.0656, 0.869, -0.2286, 0.4423]),\n",
       " DenseVector([-1.0656, 0.869, 0.1699, -0.9556]),\n",
       " DenseVector([0.9337, 0.869, 0.2762, -0.3343]),\n",
       " DenseVector([0.9337, -1.145, 0.1965, -0.645]),\n",
       " DenseVector([-1.0656, 0.869, 1.2858, -1.2663]),\n",
       " DenseVector([-1.0656, 0.869, 1.2858, -0.9556]),\n",
       " DenseVector([0.9337, -1.145, -0.0692, -1.2663]),\n",
       " DenseVector([-1.0656, 0.869, -0.9459, 1.219]),\n",
       " DenseVector([0.9337, 0.869, -0.2286, -0.0237]),\n",
       " DenseVector([-1.0656, 0.869, -0.0426, -0.179]),\n",
       " DenseVector([0.9337, 0.869, 1.2858, -1.2663]),\n",
       " DenseVector([0.9337, -1.145, 1.0998, -0.9556]),\n",
       " DenseVector([0.9337, -1.145, 1.0998, -0.9556]),\n",
       " DenseVector([0.9337, -1.145, 0.1699, -0.645]),\n",
       " DenseVector([-1.0656, -1.145, 0.1699, -0.9556]),\n",
       " DenseVector([-1.0656, 0.869, 0.1699, -0.645]),\n",
       " DenseVector([-1.0656, 0.869, -0.2286, -0.9556]),\n",
       " DenseVector([0.9337, -1.145, 0.8341, -1.4216]),\n",
       " DenseVector([-1.0656, 0.869, 1.3921, -0.8003]),\n",
       " DenseVector([0.9337, 0.869, 1.3921, -0.9556]),\n",
       " DenseVector([-1.0656, 0.869, 0.2762, -0.179]),\n",
       " DenseVector([0.9337, -1.145, 1.5249, -0.9556]),\n",
       " DenseVector([-1.0656, -1.145, -0.0692, -0.3343]),\n",
       " DenseVector([0.9337, -1.145, 0.1965, -0.645]),\n",
       " DenseVector([0.9337, -1.145, 1.3389, -0.9556]),\n",
       " DenseVector([0.9337, -1.145, 1.8969, -0.9556]),\n",
       " DenseVector([0.9337, 0.869, 0.2762, -0.179]),\n",
       " DenseVector([0.9337, -1.145, 1.5249, -0.8003]),\n",
       " DenseVector([-1.0656, 0.869, -0.1755, -0.9556]),\n",
       " DenseVector([0.9337, 0.869, -0.2286, -0.9556]),\n",
       " DenseVector([-1.0656, 0.869, 0.2762, -0.3343]),\n",
       " DenseVector([-1.0656, 0.869, -0.2286, 0.4423]),\n",
       " DenseVector([-1.0656, 0.869, -0.0692, -0.3343]),\n",
       " DenseVector([0.9337, 0.869, -0.2286, -0.0237]),\n",
       " DenseVector([0.9337, -1.145, 1.4983, -0.9556]),\n",
       " DenseVector([-1.0656, 0.869, 0.3028, -1.111]),\n",
       " DenseVector([0.9337, -1.145, 0.3293, -0.179]),\n",
       " DenseVector([-1.0656, 0.869, 0.1699, -0.9556]),\n",
       " DenseVector([-1.0656, 0.869, -0.2286, 0.4423]),\n",
       " DenseVector([-1.0656, 0.869, 1.0201, -1.111]),\n",
       " DenseVector([0.9337, -1.145, 1.4983, -0.9556]),\n",
       " DenseVector([-1.0656, 0.869, 0.4356, -0.9556]),\n",
       " DenseVector([-1.0656, 0.869, -0.8397, 0.9083]),\n",
       " DenseVector([0.9337, -1.145, 1.4983, -0.9556]),\n",
       " DenseVector([-1.0656, 0.869, 1.5515, -1.2663]),\n",
       " DenseVector([-1.0656, 0.869, 1.4983, -0.9556]),\n",
       " DenseVector([0.9337, 0.869, 0.1699, -0.9556]),\n",
       " DenseVector([0.9337, 0.869, 1.5515, -1.2663]),\n",
       " DenseVector([-1.0656, 0.869, 1.4983, -0.9556]),\n",
       " DenseVector([0.9337, -1.145, 2.5611, -1.2663]),\n",
       " DenseVector([-1.0656, -1.145, 0.4622, -0.645]),\n",
       " DenseVector([-1.0656, 0.869, 0.4622, -0.645]),\n",
       " DenseVector([-1.0656, 0.869, 0.8076, -1.111]),\n",
       " DenseVector([0.9337, -1.145, 1.0467, -0.9556]),\n",
       " DenseVector([-1.0656, 0.869, 0.0637, 0.1317]),\n",
       " DenseVector([-1.0656, 0.869, 0.2762, -0.9556]),\n",
       " DenseVector([-1.0656, 0.869, 0.967, -1.2663]),\n",
       " DenseVector([-1.0656, 0.869, 0.4622, -0.8003]),\n",
       " DenseVector([-1.0656, 0.869, 0.5153, -0.4896]),\n",
       " DenseVector([0.9337, -1.145, 0.5153, -0.4896]),\n",
       " DenseVector([0.9337, 0.869, 0.5153, -0.4896]),\n",
       " DenseVector([-1.0656, 0.869, 2.0828, -1.4216]),\n",
       " DenseVector([-1.0656, 0.869, 0.5153, -0.4896]),\n",
       " DenseVector([-1.0656, 0.869, 1.9234, -1.577]),\n",
       " DenseVector([0.9337, -1.145, 2.747, -1.2663]),\n",
       " DenseVector([0.9337, -1.145, 2.747, -1.2663]),\n",
       " DenseVector([-1.0656, 0.869, 1.3655, -1.4216]),\n",
       " DenseVector([0.9337, -1.145, 1.3655, -1.4216]),\n",
       " DenseVector([-1.0656, 0.869, 1.9234, -1.577]),\n",
       " DenseVector([-1.0656, -1.145, 4.2083, -1.8876]),\n",
       " DenseVector([-1.0656, 0.869, 2.0828, -1.577]),\n",
       " DenseVector([0.9337, -1.145, 2.747, -1.2663]),\n",
       " DenseVector([-1.0656, 0.869, 2.136, -1.7323]),\n",
       " DenseVector([-1.0656, -1.145, 2.0828, -1.4216]),\n",
       " DenseVector([0.9337, -1.145, 2.136, -1.7323])]"
      ]
     },
     "execution_count": 37,
     "metadata": {},
     "output_type": "execute_result"
    }
   ],
   "source": [
    "csAuto = carrosDf.rdd.map(centerAndScale)\n",
    "csAuto.collect()"
   ]
  },
  {
   "cell_type": "code",
   "execution_count": 38,
   "metadata": {},
   "outputs": [
    {
     "name": "stdout",
     "output_type": "stream",
     "text": [
      "+--------------------+\n",
      "|            features|\n",
      "+--------------------+\n",
      "|[0.93367168148051...|\n",
      "|[0.93367168148051...|\n",
      "|[0.93367168148051...|\n",
      "|[0.93367168148051...|\n",
      "|[0.93367168148051...|\n",
      "|[0.93367168148051...|\n",
      "|[-1.0656035495158...|\n",
      "|[0.93367168148051...|\n",
      "|[0.93367168148051...|\n",
      "|[0.93367168148051...|\n",
      "+--------------------+\n",
      "only showing top 10 rows\n",
      "\n"
     ]
    }
   ],
   "source": [
    "# Criando um Spark Dataframe\n",
    "autoRows = csAuto.map(lambda f:Row(features = f))\n",
    "autoDf = spSession.createDataFrame(autoRows)\n",
    "autoDf.select(\"features\").show(10)"
   ]
  },
  {
   "cell_type": "code",
   "execution_count": 39,
   "metadata": {},
   "outputs": [
    {
     "name": "stdout",
     "output_type": "stream",
     "text": [
      "+--------------------+----------+\n",
      "|            features|prediction|\n",
      "+--------------------+----------+\n",
      "|[0.93367168148051...|         2|\n",
      "|[0.93367168148051...|         2|\n",
      "|[0.93367168148051...|         2|\n",
      "|[0.93367168148051...|         2|\n",
      "|[0.93367168148051...|         2|\n",
      "|[0.93367168148051...|         2|\n",
      "|[-1.0656035495158...|         1|\n",
      "|[0.93367168148051...|         2|\n",
      "|[0.93367168148051...|         2|\n",
      "|[0.93367168148051...|         2|\n",
      "|[0.93367168148051...|         2|\n",
      "|[0.93367168148051...|         2|\n",
      "|[0.93367168148051...|         2|\n",
      "|[0.93367168148051...|         2|\n",
      "|[0.93367168148051...|         2|\n",
      "|[0.93367168148051...|         2|\n",
      "|[0.93367168148051...|         2|\n",
      "|[0.93367168148051...|         2|\n",
      "|[0.93367168148051...|         2|\n",
      "|[-1.0656035495158...|         1|\n",
      "+--------------------+----------+\n",
      "only showing top 20 rows\n",
      "\n"
     ]
    }
   ],
   "source": [
    "# Importando o algoritmo K-Means para clusterização\n",
    "from pyspark.ml.clustering import KMeans\n",
    "kmeans = KMeans(k = 3, seed = 1)\n",
    "modelo = kmeans.fit(autoDf)\n",
    "previsoes = modelo.transform(autoDf)\n",
    "previsoes.show()"
   ]
  },
  {
   "cell_type": "code",
   "execution_count": 40,
   "metadata": {
    "collapsed": true
   },
   "outputs": [],
   "source": [
    "# Plot dos resultados\n",
    "import pandas as pd\n",
    "import matplotlib.pylab as plt\n",
    "%matplotlib inline"
   ]
  },
  {
   "cell_type": "code",
   "execution_count": 41,
   "metadata": {
    "collapsed": true
   },
   "outputs": [],
   "source": [
    "def unstripData(instr) :\n",
    "    return ( instr[\"prediction\"], instr[\"features\"][0], instr[\"features\"][1],instr[\"features\"][2],instr[\"features\"][3])"
   ]
  },
  {
   "cell_type": "code",
   "execution_count": 42,
   "metadata": {
    "collapsed": true
   },
   "outputs": [],
   "source": [
    "# Organizando os dados para o Plot\n",
    "unstripped = previsoes.rdd.map(unstripData)\n",
    "predList = unstripped.collect()\n",
    "predPd = pd.DataFrame(predList)"
   ]
  },
  {
   "cell_type": "code",
   "execution_count": 43,
   "metadata": {},
   "outputs": [
    {
     "data": {
      "text/plain": [
       "<matplotlib.collections.PathCollection at 0x11b665940>"
      ]
     },
     "execution_count": 43,
     "metadata": {},
     "output_type": "execute_result"
    },
    {
     "data": {
      "image/png": "[encoded data removed]",
      "text/plain": [
       "<matplotlib.figure.Figure at 0x1160f5da0>"
      ]
     },
     "metadata": {},
     "output_type": "display_data"
    }
   ],
   "source": [
    "plt.cla()\n",
    "plt.scatter(predPd[3], predPd[4], c = predPd[0])"
   ]
  },
  {
   "cell_type": "markdown",
   "metadata": {
    "collapsed": true
   },
   "source": [
    "## Spark SQL e Arquivos JSON"
   ]
  },
  {
   "cell_type": "markdown",
   "metadata": {},
   "source": [
    "Neste site você pode validar a estrutura de um arquivo JSON: http://jsonlint.com/"
   ]
  },
  {
   "cell_type": "code",
   "execution_count": 44,
   "metadata": {},
   "outputs": [],
   "source": [
    "# Importando o arquivo JSON\n",
    "funcDF = spSession.read.json(\"funcionarios.json\")"
   ]
  },
  {
   "cell_type": "code",
   "execution_count": 45,
   "metadata": {},
   "outputs": [
    {
     "name": "stdout",
     "output_type": "stream",
     "text": [
      "+------+-----+----------------+-------+----+\n",
      "|deptid|idade|            nome|salario|sexo|\n",
      "+------+-----+----------------+-------+----+\n",
      "|  1000|   42|   Josias Rebelo|   7000|   m|\n",
      "|  2000|   50|Mauricio Gonheim|   9500|   m|\n",
      "|  1000|   36| Bruno Velasquez|   6700|   m|\n",
      "|  1000|   41|  Ananda Tavares|   9300|   f|\n",
      "|  2000|   34|     Carlos Maia|   5500|   m|\n",
      "+------+-----+----------------+-------+----+\n",
      "\n"
     ]
    }
   ],
   "source": [
    "funcDF.show()"
   ]
  },
  {
   "cell_type": "code",
   "execution_count": 46,
   "metadata": {},
   "outputs": [
    {
     "name": "stdout",
     "output_type": "stream",
     "text": [
      "root\n",
      " |-- deptid: string (nullable = true)\n",
      " |-- idade: string (nullable = true)\n",
      " |-- nome: string (nullable = true)\n",
      " |-- salario: string (nullable = true)\n",
      " |-- sexo: string (nullable = true)\n",
      "\n"
     ]
    }
   ],
   "source": [
    "funcDF.printSchema()"
   ]
  },
  {
   "cell_type": "code",
   "execution_count": 47,
   "metadata": {},
   "outputs": [
    {
     "data": {
      "text/plain": [
       "pyspark.sql.dataframe.DataFrame"
      ]
     },
     "execution_count": 47,
     "metadata": {},
     "output_type": "execute_result"
    }
   ],
   "source": [
    "type(funcDF)"
   ]
  },
  {
   "cell_type": "code",
   "execution_count": 48,
   "metadata": {},
   "outputs": [
    {
     "name": "stdout",
     "output_type": "stream",
     "text": [
      "+----------------+\n",
      "|            nome|\n",
      "+----------------+\n",
      "|   Josias Rebelo|\n",
      "|Mauricio Gonheim|\n",
      "| Bruno Velasquez|\n",
      "|  Ananda Tavares|\n",
      "|     Carlos Maia|\n",
      "+----------------+\n",
      "\n"
     ]
    }
   ],
   "source": [
    "# Operações com Dataframe Spark SQL - select()\n",
    "funcDF.select(\"nome\").show()"
   ]
  },
  {
   "cell_type": "code",
   "execution_count": 49,
   "metadata": {},
   "outputs": [
    {
     "name": "stdout",
     "output_type": "stream",
     "text": [
      "+------+-----+----------------+-------+----+\n",
      "|deptid|idade|            nome|salario|sexo|\n",
      "+------+-----+----------------+-------+----+\n",
      "|  2000|   50|Mauricio Gonheim|   9500|   m|\n",
      "+------+-----+----------------+-------+----+\n",
      "\n"
     ]
    }
   ],
   "source": [
    "# Operações com Dataframe Spark SQL - filter()\n",
    "funcDF.filter(funcDF[\"idade\"] == 50).show()"
   ]
  },
  {
   "cell_type": "code",
   "execution_count": 50,
   "metadata": {},
   "outputs": [
    {
     "name": "stdout",
     "output_type": "stream",
     "text": [
      "+----+-----+\n",
      "|sexo|count|\n",
      "+----+-----+\n",
      "|   m|    4|\n",
      "|   f|    1|\n",
      "+----+-----+\n",
      "\n"
     ]
    }
   ],
   "source": [
    "# Operações com Dataframe Spark SQL - groupBy()\n",
    "funcDF.groupBy(\"sexo\").count().show()"
   ]
  },
  {
   "cell_type": "code",
   "execution_count": 51,
   "metadata": {},
   "outputs": [
    {
     "name": "stdout",
     "output_type": "stream",
     "text": [
      "+------+----------+-----------------+\n",
      "|deptid|max(idade)|     avg(salario)|\n",
      "+------+----------+-----------------+\n",
      "|  2000|        50|           7500.0|\n",
      "|  1000|        42|7666.666666666667|\n",
      "+------+----------+-----------------+\n",
      "\n"
     ]
    }
   ],
   "source": [
    "# Operações com Dataframe Spark SQL - groupBy()\n",
    "funcDF.groupBy(\"deptid\").agg({\"salario\": \"avg\", \"idade\": \"max\"}).show()"
   ]
  },
  {
   "cell_type": "code",
   "execution_count": 52,
   "metadata": {
    "collapsed": true
   },
   "outputs": [],
   "source": [
    "# Registrando o dataframe como uma Temp Table\n",
    "funcDF.registerTempTable(\"funcTB\")"
   ]
  },
  {
   "cell_type": "code",
   "execution_count": 53,
   "metadata": {},
   "outputs": [
    {
     "name": "stdout",
     "output_type": "stream",
     "text": [
      "+------+----------+----------------------------+\n",
      "|deptid|max(idade)|avg(CAST(salario AS DOUBLE))|\n",
      "+------+----------+----------------------------+\n",
      "|  2000|        50|                      7500.0|\n",
      "|  1000|        42|           7666.666666666667|\n",
      "+------+----------+----------------------------+\n",
      "\n"
     ]
    }
   ],
   "source": [
    "# Executando queries SQL ANSI\n",
    "spSession.sql(\"select deptid, max(idade), avg(salario) from funcTB group by deptid\").show()"
   ]
  },
  {
   "cell_type": "markdown",
   "metadata": {},
   "source": [
    "## Temp Tables"
   ]
  },
  {
   "cell_type": "code",
   "execution_count": 54,
   "metadata": {
    "collapsed": true
   },
   "outputs": [],
   "source": [
    "# Registrando o dataframe como temp Table\n",
    "funcDF.createOrReplaceTempView(\"funcTB\")"
   ]
  },
  {
   "cell_type": "code",
   "execution_count": 55,
   "metadata": {},
   "outputs": [
    {
     "name": "stdout",
     "output_type": "stream",
     "text": [
      "+------+-----+---------------+-------+----+\n",
      "|deptid|idade|           nome|salario|sexo|\n",
      "+------+-----+---------------+-------+----+\n",
      "|  1000|   36|Bruno Velasquez|   6700|   m|\n",
      "+------+-----+---------------+-------+----+\n",
      "\n"
     ]
    }
   ],
   "source": [
    "spSession.sql(\"select * from funcTB where salario = 6700\").show()"
   ]
  },
  {
   "cell_type": "code",
   "execution_count": 56,
   "metadata": {},
   "outputs": [],
   "source": [
    "# Criando Temp Table\n",
    "sqlContext.registerDataFrameAsTable(funcDF, \"funcTB2\")"
   ]
  },
  {
   "cell_type": "code",
   "execution_count": 57,
   "metadata": {},
   "outputs": [
    {
     "ename": "NameError",
     "evalue": "name 'funcTB2' is not defined",
     "output_type": "error",
     "traceback": [
      "\u001b[0;31m---------------------------------------------------------------------------\u001b[0m",
      "\u001b[0;31mNameError\u001b[0m                                 Traceback (most recent call last)",
      "\u001b[0;32m<ipython-input-57-5e51660b18ad>\u001b[0m in \u001b[0;36m<module>\u001b[0;34m()\u001b[0m\n\u001b[0;32m----> 1\u001b[0;31m \u001b[0mtype\u001b[0m\u001b[0;34m(\u001b[0m\u001b[0mfuncTB2\u001b[0m\u001b[0;34m)\u001b[0m\u001b[0;34m\u001b[0m\u001b[0m\n\u001b[0m",
      "\u001b[0;31mNameError\u001b[0m: name 'funcTB2' is not defined"
     ]
    }
   ],
   "source": [
    "type(funcTB2)"
   ]
  },
  {
   "cell_type": "code",
   "execution_count": 58,
   "metadata": {},
   "outputs": [],
   "source": [
    "# Persistindo a Temp Table \n",
    "funcTB3 = spSession.table(\"funcTB2\")"
   ]
  },
  {
   "cell_type": "code",
   "execution_count": 59,
   "metadata": {},
   "outputs": [
    {
     "data": {
      "text/plain": [
       "pyspark.sql.dataframe.DataFrame"
      ]
     },
     "execution_count": 59,
     "metadata": {},
     "output_type": "execute_result"
    }
   ],
   "source": [
    "type(funcTB3)"
   ]
  },
  {
   "cell_type": "code",
   "execution_count": 60,
   "metadata": {},
   "outputs": [
    {
     "data": {
      "text/plain": [
       "True"
      ]
     },
     "execution_count": 60,
     "metadata": {},
     "output_type": "execute_result"
    }
   ],
   "source": [
    "# Comparando o Dataframe com a tabela temporária criada\n",
    "sorted(funcDF.collect()) == sorted(funcTB3.collect())"
   ]
  },
  {
   "cell_type": "code",
   "execution_count": 61,
   "metadata": {},
   "outputs": [
    {
     "data": {
      "text/plain": [
       "Row(deptid='1000', idade='42', nome='Josias Rebelo', salario='7000', sexo='m')"
      ]
     },
     "execution_count": 61,
     "metadata": {},
     "output_type": "execute_result"
    }
   ],
   "source": [
    "# Aplicando o filtro\n",
    "sqlContext.registerDataFrameAsTable(funcDF, \"funcTB2\")\n",
    "funcTB3 = spSession.table(\"funcTB2\")\n",
    "funcTB3.filter(\"idade = '42'\").first()"
   ]
  },
  {
   "cell_type": "code",
   "execution_count": null,
   "metadata": {},
   "outputs": [],
   "source": [
    "# Drop Temp Table\n",
    "sqlContext.dropTempTable(\"funcTB2\")"
   ]
  },
  {
   "cell_type": "markdown",
   "metadata": {},
   "source": [
    "## Banco de Dados Relacional"
   ]
  },
  {
   "cell_type": "markdown",
   "metadata": {},
   "source": [
    "Extraindo Dados do MySQL. Primeiro precisamos baixar o driver JDBC. Haverá um driver JDBC para cada banco de dados que você conectar (Oracle, SQL Server, etc...)"
   ]
  },
  {
   "cell_type": "markdown",
   "metadata": {},
   "source": [
    "1- Download do Driver JDBC para o MySQL: http://dev.mysql.com/downloads/connector/j/"
   ]
  },
  {
   "cell_type": "markdown",
   "metadata": {},
   "source": [
    "2- Baixar o arquivo .zip"
   ]
  },
  {
   "cell_type": "markdown",
   "metadata": {},
   "source": [
    "3- Descompactar o arquivo e copiar o arquivo mysql-connector-java-5.1.39-bin.jar para a pasta /opt/Spark/jars"
   ]
  },
  {
   "cell_type": "code",
   "execution_count": 62,
   "metadata": {
    "collapsed": true
   },
   "outputs": [],
   "source": [
    "from pyspark.sql import SQLContext\n",
    "sqlContext = SQLContext(sc)"
   ]
  },
  {
   "cell_type": "code",
   "execution_count": 72,
   "metadata": {},
   "outputs": [],
   "source": [
    "mysql_df = spSession.read.format(\"jdbc\").options(\n",
    "    url = \"jdbc:mysql://localhost/carros\",\n",
    "    driver = \"com.mysql.jdbc.Driver\",\n",
    "    dbtable = \"carrostb\",\n",
    "    user = \"root\",\n",
    "    password = \"dsa1234\").load()"
   ]
  },
  {
   "cell_type": "code",
   "execution_count": 73,
   "metadata": {},
   "outputs": [
    {
     "name": "stdout",
     "output_type": "stream",
     "text": [
      "+----------+--------+------+-----+---------+-----+---------+---+----+--------+-------+-----+\n",
      "|      MAKE|FUELTYPE|ASPIRE|DOORS|     BODY|DRIVE|CYLINDERS| HP| RPM|MPG-CITY|MPG-HWY|PRICE|\n",
      "+----------+--------+------+-----+---------+-----+---------+---+----+--------+-------+-----+\n",
      "|    subaru|     gas|   std|  two|hatchback|  fwd|     four| 69|4900|      31|     36| 5118|\n",
      "| chevrolet|     gas|   std|  two|hatchback|  fwd|    three| 48|5100|      47|     53| 5151|\n",
      "|     mazda|     gas|   std|  two|hatchback|  fwd|     four| 68|5000|      30|     31| 5195|\n",
      "|    toyota|     gas|   std|  two|hatchback|  fwd|     four| 62|4800|      35|     39| 5348|\n",
      "|mitsubishi|     gas|   std|  two|hatchback|  fwd|     four| 68|5500|      37|     41| 5389|\n",
      "|     honda|     gas|   std|  two|hatchback|  fwd|     four| 60|5500|      38|     42| 5399|\n",
      "|    nissan|     gas|   std|  two|    sedan|  fwd|     four| 69|5200|      31|     37| 5499|\n",
      "|     dodge|     gas|   std|  two|hatchback|  fwd|     four| 68|5500|      37|     41| 5572|\n",
      "|  plymouth|     gas|   std|  two|hatchback|  fwd|     four| 68|5500|      37|     41| 5572|\n",
      "|     mazda|     gas|   std|  two|hatchback|  fwd|     four| 68|5000|      31|     38| 6095|\n",
      "|mitsubishi|     gas|   std|  two|hatchback|  fwd|     four| 68|5500|      31|     38| 6189|\n",
      "|     dodge|     gas|   std| four|hatchback|  fwd|     four| 68|5500|      31|     38| 6229|\n",
      "|  plymouth|     gas|   std| four|hatchback|  fwd|     four| 68|5500|      31|     38| 6229|\n",
      "| chevrolet|     gas|   std|  two|hatchback|  fwd|     four| 70|5400|      38|     43| 6295|\n",
      "|    toyota|     gas|   std|  two|hatchback|  fwd|     four| 62|4800|      31|     38| 6338|\n",
      "|     dodge|     gas|   std|  two|hatchback|  fwd|     four| 68|5500|      31|     38| 6377|\n",
      "|     honda|     gas|   std|  two|hatchback|  fwd|     four| 58|4800|      49|     54| 6479|\n",
      "|    toyota|     gas|   std| four|hatchback|  fwd|     four| 62|4800|      31|     38| 6488|\n",
      "|     honda|     gas|   std|  two|hatchback|  fwd|     four| 76|6000|      30|     34| 6529|\n",
      "| chevrolet|     gas|   std| four|    sedan|  fwd|     four| 70|5400|      38|     43| 6575|\n",
      "+----------+--------+------+-----+---------+-----+---------+---+----+--------+-------+-----+\n",
      "only showing top 20 rows\n",
      "\n"
     ]
    }
   ],
   "source": [
    "mysql_df.show()"
   ]
  },
  {
   "cell_type": "code",
   "execution_count": 74,
   "metadata": {
    "collapsed": true
   },
   "outputs": [],
   "source": [
    "dataframe_mysql.registerTempTable(\"carrostb\")"
   ]
  },
  {
   "cell_type": "code",
   "execution_count": 75,
   "metadata": {},
   "outputs": [
    {
     "name": "stdout",
     "output_type": "stream",
     "text": [
      "+----------+--------+------+-----+---------+-----+---------+---+----+--------+-------+-----+\n",
      "|      MAKE|FUELTYPE|ASPIRE|DOORS|     BODY|DRIVE|CYLINDERS| HP| RPM|MPG-CITY|MPG-HWY|PRICE|\n",
      "+----------+--------+------+-----+---------+-----+---------+---+----+--------+-------+-----+\n",
      "|     mazda|     gas|   std|  two|hatchback|  fwd|     four| 68|5000|      30|     31| 5195|\n",
      "|mitsubishi|     gas|   std|  two|hatchback|  fwd|     four| 68|5500|      37|     41| 5389|\n",
      "|     dodge|     gas|   std|  two|hatchback|  fwd|     four| 68|5500|      37|     41| 5572|\n",
      "|  plymouth|     gas|   std|  two|hatchback|  fwd|     four| 68|5500|      37|     41| 5572|\n",
      "|     mazda|     gas|   std|  two|hatchback|  fwd|     four| 68|5000|      31|     38| 6095|\n",
      "|mitsubishi|     gas|   std|  two|hatchback|  fwd|     four| 68|5500|      31|     38| 6189|\n",
      "|     dodge|     gas|   std| four|hatchback|  fwd|     four| 68|5500|      31|     38| 6229|\n",
      "|  plymouth|     gas|   std| four|hatchback|  fwd|     four| 68|5500|      31|     38| 6229|\n",
      "|     dodge|     gas|   std|  two|hatchback|  fwd|     four| 68|5500|      31|     38| 6377|\n",
      "|mitsubishi|     gas|   std|  two|hatchback|  fwd|     four| 68|5500|      31|     38| 6669|\n",
      "|     dodge|     gas|   std| four|    sedan|  fwd|     four| 68|5500|      31|     38| 6692|\n",
      "|  plymouth|     gas|   std| four|    sedan|  fwd|     four| 68|5500|      31|     38| 6692|\n",
      "|     mazda|     gas|   std| four|    sedan|  fwd|     four| 68|5000|      31|     38| 6695|\n",
      "|     mazda|     gas|   std|  two|hatchback|  fwd|     four| 68|5000|      31|     38| 6795|\n",
      "|     mazda|     gas|   std| four|    sedan|  fwd|     four| 68|5000|      31|     38| 7395|\n",
      "|     dodge|     gas|   std| four|    sedan|  fwd|     four| 68|5500|      31|     38| 7609|\n",
      "|  plymouth|     gas|   std| four|    sedan|  fwd|     four| 68|5500|      31|     38| 7609|\n",
      "|volkswagen|  diesel| turbo| four|    sedan|  fwd|     four| 68|4500|      37|     42| 9495|\n",
      "|volkswagen|  diesel| turbo| four|    sedan|  fwd|     four| 68|4500|      33|     38|13845|\n",
      "+----------+--------+------+-----+---------+-----+---------+---+----+--------+-------+-----+\n",
      "\n"
     ]
    }
   ],
   "source": [
    "spSession.sql(\"select * from carrostb where hp = '68'\").show()"
   ]
  },
  {
   "cell_type": "markdown",
   "metadata": {
    "collapsed": true
   },
   "source": [
    "## Banco de Dados Não-Relacional"
   ]
  },
  {
   "cell_type": "markdown",
   "metadata": {},
   "source": [
    "https://spark-packages.org/package/Stratio/spark-mongodb"
   ]
  },
  {
   "cell_type": "markdown",
   "metadata": {},
   "source": [
    "$SPARK_HOME/bin/pyspark --packages com.stratio.datasource:spark-mongodb_2.11:0.12.0"
   ]
  },
  {
   "cell_type": "code",
   "execution_count": 1,
   "metadata": {
    "collapsed": true
   },
   "outputs": [],
   "source": [
    "from pyspark.sql import SparkSession\n",
    "spark = SparkSession.builder.getOrCreate()"
   ]
  },
  {
   "cell_type": "code",
   "execution_count": 2,
   "metadata": {},
   "outputs": [
    {
     "data": {
      "text/plain": [
       "DataFrame[]"
      ]
     },
     "execution_count": 2,
     "metadata": {},
     "output_type": "execute_result"
    }
   ],
   "source": [
    "# Cria tabela temporária a partir de dados do MongoDB\n",
    "spark.sql(\"CREATE TEMPORARY VIEW test_tb USING com.stratio.datasource.mongodb OPTIONS (host 'localhost:27017', database 'test_db', collection 'test_collection')\")"
   ]
  },
  {
   "cell_type": "code",
   "execution_count": 3,
   "metadata": {},
   "outputs": [
    {
     "data": {
      "text/plain": [
       "[Row(titulo='MongoDB Overview', _id='57d9f1b67a0a143422c5e6d1')]"
      ]
     },
     "execution_count": 3,
     "metadata": {},
     "output_type": "execute_result"
    }
   ],
   "source": [
    "# select na tabela temporária criada\n",
    "spark.sql(\"SELECT * FROM test_tb\").collect()"
   ]
  },
  {
   "cell_type": "code",
   "execution_count": 4,
   "metadata": {},
   "outputs": [],
   "source": [
    "# DataFrameReader\n",
    "df = spark.read.format('com.stratio.datasource.mongodb').options(host='localhost:27017', database = 'test_db', collection = 'test_collection').load()"
   ]
  },
  {
   "cell_type": "code",
   "execution_count": 5,
   "metadata": {},
   "outputs": [
    {
     "name": "stdout",
     "output_type": "stream",
     "text": [
      "+----------------+--------------------+\n",
      "|          titulo|                 _id|\n",
      "+----------------+--------------------+\n",
      "|MongoDB Overview|57d9f1b67a0a14342...|\n",
      "+----------------+--------------------+\n",
      "\n"
     ]
    }
   ],
   "source": [
    "df.show()"
   ]
  },
  {
   "cell_type": "code",
   "execution_count": 6,
   "metadata": {},
   "outputs": [],
   "source": [
    "# DataFrameWriter\n",
    "df.select(\"titulo\").write.format(\"com.stratio.datasource.mongodb\").mode('overwrite').options(host = 'localhost:27017', database = 'test_db', collection = 'test_collection').save()"
   ]
  },
  {
   "cell_type": "code",
   "execution_count": 7,
   "metadata": {
    "collapsed": true
   },
   "outputs": [],
   "source": [
    "# DataFrameReader\n",
    "dfView = spark.read.format('com.stratio.datasource.mongodb').options(host='localhost:27017', database='test_db', collection='test_collection').load()"
   ]
  },
  {
   "cell_type": "code",
   "execution_count": 8,
   "metadata": {},
   "outputs": [
    {
     "name": "stdout",
     "output_type": "stream",
     "text": [
      "++\n",
      "||\n",
      "++\n",
      "++\n",
      "\n"
     ]
    }
   ],
   "source": [
    "dfView.show()"
   ]
  },
  {
   "cell_type": "markdown",
   "metadata": {},
   "source": [
    "# Fim"
   ]
  },
  {
   "cell_type": "markdown",
   "metadata": {},
   "source": [
    "### Obrigado - Data Science Academy - <a href=http://facebook.com/dsacademy>facebook.com/dsacademybr</a>"
   ]
  }
 ],
 "metadata": {
  "anaconda-cloud": {},
  "kernelspec": {
   "display_name": "Python 3",
   "language": "python",
   "name": "python3"
  },
  "language_info": {
   "codemirror_mode": {
    "name": "ipython",
    "version": 3
   },
   "file_extension": ".py",
   "mimetype": "text/x-python",
   "name": "python",
   "nbconvert_exporter": "python",
   "pygments_lexer": "ipython3",
   "version": "3.6.1"
  }
 },
 "nbformat": 4,
 "nbformat_minor": 1
}
